{
 "cells": [
  {
   "cell_type": "markdown",
   "metadata": {
    "id": "hSA1kgiKvrTG"
   },
   "source": [
    "# Введение в Pandas\n",
    "\n",
    "[Pandas](https://pandas.pydata.org/) — это библиотека Python, предоставляющая широкие возможности для анализа данных. Данные, с которыми работают датасаентисты, часто хранятся в форме табличек — например, в форматах `.csv`, `.tsv` или `.xlsx`. \n",
    "\n",
    "С помощью библиотеки Pandas такие табличные данные очень удобно загружать, обрабатывать и анализировать с помощью SQL-подобных запросов. А в связке с библиотеками [визуализации](https://towardsdatascience.com/4-key-players-in-python-data-visualization-ecosystem-matplotlib-seaborn-altair-and-plotly-23ae37a68227/) [`Matplotlib`](https://matplotlib.org/)/[`Seaborn`](https://seaborn.pydata.org/)/[`Plotly`](https://plotly.com/) и библиотеками математической обработки данных[`Numpy`](https://numpy.org/)/[`SciPy`](https://scipy.org/) библиотека Pandas предоставляет широкие возможности визуального анализа табличных данных."
   ]
  },
  {
   "cell_type": "markdown",
   "metadata": {},
   "source": [
    "Основной структурой данных в Pandas является класс DataFrame.<br>\n",
    "__DataFrame__ – это двухмерная структура данных, представляющая собой таблицу, каждый столбец которой содержит данные одного типа. Можно представлять её как словарь объектов типа колонки с индексами. Структура DataFrame отлично подходит для представления реальных данных: строки соответствуют признаковым описаниям отдельных объектов, а столбцы соответствуют признакам.\n",
    "\n",
    "Также Pandas позволяет более оптимально работать с одномерными массивами при помощи класса  Series.<br>\n",
    "__Series__ - представляет собой одномерный индексированный массив данных некоторого фиксированного типа. "
   ]
  },
  {
   "cell_type": "code",
   "execution_count": 2,
   "metadata": {},
   "outputs": [],
   "source": [
    "# импортируем Pandas и Numpy\n",
    "import pandas as pd\n",
    "import numpy as np"
   ]
  },
  {
   "cell_type": "markdown",
   "metadata": {},
   "source": [
    "# Набор данных\n",
    "\n",
    "## Загрузка набора данных\n",
    "\n",
    "**Оценка стоимости  и типа трансмиссии по данным продаж автомобилей на вторичном рынке Молдавии**"
   ]
  },
  {
   "cell_type": "markdown",
   "metadata": {
    "id": "9WAiW__nvrTK"
   },
   "source": [
    "Набор данных представляет собой статистику параметров автомобилей на вторичном рынке в Молдавии. \n",
    "\n",
    "* Набор включает ряд категориальных и численных значений, составляющих одну запись (строку).\n",
    "* Число записей можно найти как число строк.\n",
    "* Каждый столбец в записи — это отдельный параметр.\n",
    "* Среди указанных параметров приведены целевой для задачи предсказания (регрессии) - цена автомобиля.\n",
    "* Также среди параметров есть целевой для задачи классификации - тип трансмиссии.\n",
    "* Последняя задача может быть рассмотрена, например, как пример задачи на заполнение пропусков (если продавец не указал соответствующий параметр)."
   ]
  },
  {
   "cell_type": "markdown",
   "metadata": {
    "id": "6KkCjdKUsHIr"
   },
   "source": [
    "Считываем файл в `DataFrame` - для этого использууем  метод `.read_csv(...)`\n",
    "\n"
   ]
  },
  {
   "cell_type": "code",
   "execution_count": 3,
   "metadata": {
    "id": "aSOyj3trvrTO"
   },
   "outputs": [],
   "source": [
    "df = pd.read_csv('https://raw.githubusercontent.com/MVRonkin/BasicDataAnalysisCourse/refs/heads/main/Workshops/cars.csv')"
   ]
  },
  {
   "cell_type": "markdown",
   "metadata": {},
   "source": [
    "посмотрим на содержание таблицы"
   ]
  },
  {
   "cell_type": "markdown",
   "metadata": {},
   "source": [
    "## Визуализация данных"
   ]
  },
  {
   "cell_type": "code",
   "execution_count": 342,
   "metadata": {
    "colab": {
     "base_uri": "https://localhost:8080/",
     "height": 424
    },
    "id": "ZJo0Ey2or2Bu",
    "outputId": "90d1bfe0-62cb-4519-8642-f2735c681dee"
   },
   "outputs": [
    {
     "data": {
      "text/html": [
       "<div>\n",
       "<style scoped>\n",
       "    .dataframe tbody tr th:only-of-type {\n",
       "        vertical-align: middle;\n",
       "    }\n",
       "\n",
       "    .dataframe tbody tr th {\n",
       "        vertical-align: top;\n",
       "    }\n",
       "\n",
       "    .dataframe thead th {\n",
       "        text-align: right;\n",
       "    }\n",
       "</style>\n",
       "<table border=\"1\" class=\"dataframe\">\n",
       "  <thead>\n",
       "    <tr style=\"text-align: right;\">\n",
       "      <th></th>\n",
       "      <th>Make</th>\n",
       "      <th>Model</th>\n",
       "      <th>Year</th>\n",
       "      <th>Style</th>\n",
       "      <th>Distance</th>\n",
       "      <th>Engine_capacity(cm3)</th>\n",
       "      <th>Fuel_type</th>\n",
       "      <th>AutoTransmission</th>\n",
       "      <th>Price(euro)</th>\n",
       "    </tr>\n",
       "  </thead>\n",
       "  <tbody>\n",
       "    <tr>\n",
       "      <th>0</th>\n",
       "      <td>Toyota</td>\n",
       "      <td>Prius</td>\n",
       "      <td>2011</td>\n",
       "      <td>Hatchback</td>\n",
       "      <td>195000.0</td>\n",
       "      <td>1800.0</td>\n",
       "      <td>Hybrid</td>\n",
       "      <td>True</td>\n",
       "      <td>7750.0</td>\n",
       "    </tr>\n",
       "    <tr>\n",
       "      <th>1</th>\n",
       "      <td>Renault</td>\n",
       "      <td>Grand Scenic</td>\n",
       "      <td>2014</td>\n",
       "      <td>Universal</td>\n",
       "      <td>135000.0</td>\n",
       "      <td>1500.0</td>\n",
       "      <td>Diesel</td>\n",
       "      <td>False</td>\n",
       "      <td>8550.0</td>\n",
       "    </tr>\n",
       "    <tr>\n",
       "      <th>2</th>\n",
       "      <td>Volkswagen</td>\n",
       "      <td>Golf</td>\n",
       "      <td>1998</td>\n",
       "      <td>Hatchback</td>\n",
       "      <td>1.0</td>\n",
       "      <td>1400.0</td>\n",
       "      <td>Petrol</td>\n",
       "      <td>False</td>\n",
       "      <td>2200.0</td>\n",
       "    </tr>\n",
       "    <tr>\n",
       "      <th>3</th>\n",
       "      <td>Renault</td>\n",
       "      <td>Laguna</td>\n",
       "      <td>2012</td>\n",
       "      <td>Universal</td>\n",
       "      <td>110000.0</td>\n",
       "      <td>1500.0</td>\n",
       "      <td>Diesel</td>\n",
       "      <td>False</td>\n",
       "      <td>6550.0</td>\n",
       "    </tr>\n",
       "    <tr>\n",
       "      <th>4</th>\n",
       "      <td>Opel</td>\n",
       "      <td>Astra</td>\n",
       "      <td>2006</td>\n",
       "      <td>Universal</td>\n",
       "      <td>200000.0</td>\n",
       "      <td>1600.0</td>\n",
       "      <td>Metan/Propan</td>\n",
       "      <td>False</td>\n",
       "      <td>4100.0</td>\n",
       "    </tr>\n",
       "    <tr>\n",
       "      <th>...</th>\n",
       "      <td>...</td>\n",
       "      <td>...</td>\n",
       "      <td>...</td>\n",
       "      <td>...</td>\n",
       "      <td>...</td>\n",
       "      <td>...</td>\n",
       "      <td>...</td>\n",
       "      <td>...</td>\n",
       "      <td>...</td>\n",
       "    </tr>\n",
       "    <tr>\n",
       "      <th>41002</th>\n",
       "      <td>Dacia</td>\n",
       "      <td>Logan Mcv</td>\n",
       "      <td>2015</td>\n",
       "      <td>Universal</td>\n",
       "      <td>89000.0</td>\n",
       "      <td>1500.0</td>\n",
       "      <td>Diesel</td>\n",
       "      <td>False</td>\n",
       "      <td>7000.0</td>\n",
       "    </tr>\n",
       "    <tr>\n",
       "      <th>41003</th>\n",
       "      <td>Renault</td>\n",
       "      <td>Modus</td>\n",
       "      <td>2009</td>\n",
       "      <td>Hatchback</td>\n",
       "      <td>225.0</td>\n",
       "      <td>1500.0</td>\n",
       "      <td>Diesel</td>\n",
       "      <td>False</td>\n",
       "      <td>4500.0</td>\n",
       "    </tr>\n",
       "    <tr>\n",
       "      <th>41004</th>\n",
       "      <td>Mercedes</td>\n",
       "      <td>E Class</td>\n",
       "      <td>2016</td>\n",
       "      <td>Sedan</td>\n",
       "      <td>50000.0</td>\n",
       "      <td>1950.0</td>\n",
       "      <td>Diesel</td>\n",
       "      <td>True</td>\n",
       "      <td>29500.0</td>\n",
       "    </tr>\n",
       "    <tr>\n",
       "      <th>41005</th>\n",
       "      <td>Mazda</td>\n",
       "      <td>6</td>\n",
       "      <td>2006</td>\n",
       "      <td>Combi</td>\n",
       "      <td>370000.0</td>\n",
       "      <td>2000.0</td>\n",
       "      <td>Diesel</td>\n",
       "      <td>False</td>\n",
       "      <td>4000.0</td>\n",
       "    </tr>\n",
       "    <tr>\n",
       "      <th>41006</th>\n",
       "      <td>Renault</td>\n",
       "      <td>Grand Scenic</td>\n",
       "      <td>2006</td>\n",
       "      <td>Minivan</td>\n",
       "      <td>300000.0</td>\n",
       "      <td>1500.0</td>\n",
       "      <td>Diesel</td>\n",
       "      <td>False</td>\n",
       "      <td>4000.0</td>\n",
       "    </tr>\n",
       "  </tbody>\n",
       "</table>\n",
       "<p>41007 rows × 9 columns</p>\n",
       "</div>"
      ],
      "text/plain": [
       "             Make         Model  Year      Style  Distance  \\\n",
       "0          Toyota         Prius  2011  Hatchback  195000.0   \n",
       "1         Renault  Grand Scenic  2014  Universal  135000.0   \n",
       "2      Volkswagen          Golf  1998  Hatchback       1.0   \n",
       "3         Renault        Laguna  2012  Universal  110000.0   \n",
       "4            Opel         Astra  2006  Universal  200000.0   \n",
       "...           ...           ...   ...        ...       ...   \n",
       "41002       Dacia     Logan Mcv  2015  Universal   89000.0   \n",
       "41003     Renault         Modus  2009  Hatchback     225.0   \n",
       "41004    Mercedes       E Class  2016      Sedan   50000.0   \n",
       "41005       Mazda             6  2006      Combi  370000.0   \n",
       "41006     Renault  Grand Scenic  2006    Minivan  300000.0   \n",
       "\n",
       "       Engine_capacity(cm3)     Fuel_type  AutoTransmission  Price(euro)  \n",
       "0                    1800.0        Hybrid              True       7750.0  \n",
       "1                    1500.0        Diesel             False       8550.0  \n",
       "2                    1400.0        Petrol             False       2200.0  \n",
       "3                    1500.0        Diesel             False       6550.0  \n",
       "4                    1600.0  Metan/Propan             False       4100.0  \n",
       "...                     ...           ...               ...          ...  \n",
       "41002                1500.0        Diesel             False       7000.0  \n",
       "41003                1500.0        Diesel             False       4500.0  \n",
       "41004                1950.0        Diesel              True      29500.0  \n",
       "41005                2000.0        Diesel             False       4000.0  \n",
       "41006                1500.0        Diesel             False       4000.0  \n",
       "\n",
       "[41007 rows x 9 columns]"
      ]
     },
     "execution_count": 342,
     "metadata": {},
     "output_type": "execute_result"
    }
   ],
   "source": [
    "df"
   ]
  },
  {
   "cell_type": "markdown",
   "metadata": {},
   "source": [
    "Также для вывода можно использовать специальные методы:\n",
    "* `head` - первые строки таблицы\n",
    "* `sample` - случайные строки таблицы\n",
    "* `tail` - последние строки таблицы\n",
    "\n",
    "посмотрим на 3 первых строки"
   ]
  },
  {
   "cell_type": "code",
   "execution_count": 343,
   "metadata": {
    "scrolled": true
   },
   "outputs": [
    {
     "data": {
      "text/html": [
       "<div>\n",
       "<style scoped>\n",
       "    .dataframe tbody tr th:only-of-type {\n",
       "        vertical-align: middle;\n",
       "    }\n",
       "\n",
       "    .dataframe tbody tr th {\n",
       "        vertical-align: top;\n",
       "    }\n",
       "\n",
       "    .dataframe thead th {\n",
       "        text-align: right;\n",
       "    }\n",
       "</style>\n",
       "<table border=\"1\" class=\"dataframe\">\n",
       "  <thead>\n",
       "    <tr style=\"text-align: right;\">\n",
       "      <th></th>\n",
       "      <th>Make</th>\n",
       "      <th>Model</th>\n",
       "      <th>Year</th>\n",
       "      <th>Style</th>\n",
       "      <th>Distance</th>\n",
       "      <th>Engine_capacity(cm3)</th>\n",
       "      <th>Fuel_type</th>\n",
       "      <th>AutoTransmission</th>\n",
       "      <th>Price(euro)</th>\n",
       "    </tr>\n",
       "  </thead>\n",
       "  <tbody>\n",
       "    <tr>\n",
       "      <th>0</th>\n",
       "      <td>Toyota</td>\n",
       "      <td>Prius</td>\n",
       "      <td>2011</td>\n",
       "      <td>Hatchback</td>\n",
       "      <td>195000.0</td>\n",
       "      <td>1800.0</td>\n",
       "      <td>Hybrid</td>\n",
       "      <td>True</td>\n",
       "      <td>7750.0</td>\n",
       "    </tr>\n",
       "    <tr>\n",
       "      <th>1</th>\n",
       "      <td>Renault</td>\n",
       "      <td>Grand Scenic</td>\n",
       "      <td>2014</td>\n",
       "      <td>Universal</td>\n",
       "      <td>135000.0</td>\n",
       "      <td>1500.0</td>\n",
       "      <td>Diesel</td>\n",
       "      <td>False</td>\n",
       "      <td>8550.0</td>\n",
       "    </tr>\n",
       "    <tr>\n",
       "      <th>2</th>\n",
       "      <td>Volkswagen</td>\n",
       "      <td>Golf</td>\n",
       "      <td>1998</td>\n",
       "      <td>Hatchback</td>\n",
       "      <td>1.0</td>\n",
       "      <td>1400.0</td>\n",
       "      <td>Petrol</td>\n",
       "      <td>False</td>\n",
       "      <td>2200.0</td>\n",
       "    </tr>\n",
       "  </tbody>\n",
       "</table>\n",
       "</div>"
      ],
      "text/plain": [
       "         Make         Model  Year      Style  Distance  Engine_capacity(cm3)  \\\n",
       "0      Toyota         Prius  2011  Hatchback  195000.0                1800.0   \n",
       "1     Renault  Grand Scenic  2014  Universal  135000.0                1500.0   \n",
       "2  Volkswagen          Golf  1998  Hatchback       1.0                1400.0   \n",
       "\n",
       "  Fuel_type  AutoTransmission  Price(euro)  \n",
       "0    Hybrid              True       7750.0  \n",
       "1    Diesel             False       8550.0  \n",
       "2    Petrol             False       2200.0  "
      ]
     },
     "execution_count": 343,
     "metadata": {},
     "output_type": "execute_result"
    }
   ],
   "source": [
    "df.head(3)"
   ]
  },
  {
   "cell_type": "markdown",
   "metadata": {},
   "source": [
    "Проверим размер таблицы"
   ]
  },
  {
   "cell_type": "code",
   "execution_count": 344,
   "metadata": {},
   "outputs": [
    {
     "name": "stdout",
     "output_type": "stream",
     "text": [
      "(41007, 9)\n"
     ]
    }
   ],
   "source": [
    "print(df.shape)"
   ]
  },
  {
   "cell_type": "markdown",
   "metadata": {},
   "source": [
    "Теперь посмотрим на названия колонок"
   ]
  },
  {
   "cell_type": "code",
   "execution_count": 345,
   "metadata": {},
   "outputs": [
    {
     "name": "stdout",
     "output_type": "stream",
     "text": [
      "Index(['Make', 'Model', 'Year', 'Style', 'Distance', 'Engine_capacity(cm3)',\n",
      "       'Fuel_type', 'AutoTransmission', 'Price(euro)'],\n",
      "      dtype='object')\n"
     ]
    }
   ],
   "source": [
    "print(df.columns)"
   ]
  },
  {
   "cell_type": "markdown",
   "metadata": {
    "id": "WhmSgMzY3Hd5"
   },
   "source": [
    "`DataFrame` можно отсортировать по значению какого-нибудь из признаков. Однако не рекоментся сохранять такой `DataFrame`.\n",
    "\n",
    "Метод `.sort_values(by)`"
   ]
  },
  {
   "cell_type": "code",
   "execution_count": 346,
   "metadata": {
    "colab": {
     "base_uri": "https://localhost:8080/"
    },
    "id": "OopAUEEauZD6",
    "outputId": "52b3505d-c2a0-4096-a8f7-b47ce7e02143"
   },
   "outputs": [
    {
     "data": {
      "text/html": [
       "<div>\n",
       "<style scoped>\n",
       "    .dataframe tbody tr th:only-of-type {\n",
       "        vertical-align: middle;\n",
       "    }\n",
       "\n",
       "    .dataframe tbody tr th {\n",
       "        vertical-align: top;\n",
       "    }\n",
       "\n",
       "    .dataframe thead th {\n",
       "        text-align: right;\n",
       "    }\n",
       "</style>\n",
       "<table border=\"1\" class=\"dataframe\">\n",
       "  <thead>\n",
       "    <tr style=\"text-align: right;\">\n",
       "      <th></th>\n",
       "      <th>Make</th>\n",
       "      <th>Model</th>\n",
       "      <th>Year</th>\n",
       "      <th>Style</th>\n",
       "      <th>Distance</th>\n",
       "      <th>Engine_capacity(cm3)</th>\n",
       "      <th>Fuel_type</th>\n",
       "      <th>AutoTransmission</th>\n",
       "      <th>Price(euro)</th>\n",
       "    </tr>\n",
       "  </thead>\n",
       "  <tbody>\n",
       "    <tr>\n",
       "      <th>15016</th>\n",
       "      <td>Toyota</td>\n",
       "      <td>Land Cruiser Prado</td>\n",
       "      <td>2012</td>\n",
       "      <td>SUV</td>\n",
       "      <td>10005.0</td>\n",
       "      <td>3000.0</td>\n",
       "      <td>Diesel</td>\n",
       "      <td>True</td>\n",
       "      <td>200000.0</td>\n",
       "    </tr>\n",
       "    <tr>\n",
       "      <th>16841</th>\n",
       "      <td>Volkswagen</td>\n",
       "      <td>Caddy</td>\n",
       "      <td>2015</td>\n",
       "      <td>Combi</td>\n",
       "      <td>158260.0</td>\n",
       "      <td>1395.0</td>\n",
       "      <td>Metan/Propan</td>\n",
       "      <td>False</td>\n",
       "      <td>200000.0</td>\n",
       "    </tr>\n",
       "    <tr>\n",
       "      <th>32170</th>\n",
       "      <td>Mercedes</td>\n",
       "      <td>G Class</td>\n",
       "      <td>2020</td>\n",
       "      <td>SUV</td>\n",
       "      <td>3000.0</td>\n",
       "      <td>3982.0</td>\n",
       "      <td>Petrol</td>\n",
       "      <td>True</td>\n",
       "      <td>215000.0</td>\n",
       "    </tr>\n",
       "    <tr>\n",
       "      <th>20055</th>\n",
       "      <td>KIA</td>\n",
       "      <td>Sportage</td>\n",
       "      <td>2018</td>\n",
       "      <td>Crossover</td>\n",
       "      <td>46000.0</td>\n",
       "      <td>1600.0</td>\n",
       "      <td>Petrol</td>\n",
       "      <td>True</td>\n",
       "      <td>490000.0</td>\n",
       "    </tr>\n",
       "    <tr>\n",
       "      <th>37125</th>\n",
       "      <td>Brilliance</td>\n",
       "      <td>BS3</td>\n",
       "      <td>2009</td>\n",
       "      <td>Sedan</td>\n",
       "      <td>57000.0</td>\n",
       "      <td>1598.0</td>\n",
       "      <td>Petrol</td>\n",
       "      <td>False</td>\n",
       "      <td>10000000.0</td>\n",
       "    </tr>\n",
       "  </tbody>\n",
       "</table>\n",
       "</div>"
      ],
      "text/plain": [
       "             Make               Model  Year      Style  Distance  \\\n",
       "15016      Toyota  Land Cruiser Prado  2012        SUV   10005.0   \n",
       "16841  Volkswagen               Caddy  2015      Combi  158260.0   \n",
       "32170    Mercedes             G Class  2020        SUV    3000.0   \n",
       "20055         KIA            Sportage  2018  Crossover   46000.0   \n",
       "37125  Brilliance                 BS3  2009      Sedan   57000.0   \n",
       "\n",
       "       Engine_capacity(cm3)     Fuel_type  AutoTransmission  Price(euro)  \n",
       "15016                3000.0        Diesel              True     200000.0  \n",
       "16841                1395.0  Metan/Propan             False     200000.0  \n",
       "32170                3982.0        Petrol              True     215000.0  \n",
       "20055                1600.0        Petrol              True     490000.0  \n",
       "37125                1598.0        Petrol             False   10000000.0  "
      ]
     },
     "execution_count": 346,
     "metadata": {},
     "output_type": "execute_result"
    }
   ],
   "source": [
    "df.sort_values(by = 'Price(euro)').tail(5)"
   ]
  },
  {
   "cell_type": "markdown",
   "metadata": {
    "id": "hWZy_e0Hv9JW"
   },
   "source": [
    "\n",
    "Метод `.sort_values(by, ascending= False)`"
   ]
  },
  {
   "cell_type": "code",
   "execution_count": 347,
   "metadata": {
    "colab": {
     "base_uri": "https://localhost:8080/"
    },
    "id": "cv33vgtfu_MH",
    "outputId": "0f510a51-41ea-450a-ab0f-0217edc5c95a"
   },
   "outputs": [
    {
     "data": {
      "text/html": [
       "<div>\n",
       "<style scoped>\n",
       "    .dataframe tbody tr th:only-of-type {\n",
       "        vertical-align: middle;\n",
       "    }\n",
       "\n",
       "    .dataframe tbody tr th {\n",
       "        vertical-align: top;\n",
       "    }\n",
       "\n",
       "    .dataframe thead th {\n",
       "        text-align: right;\n",
       "    }\n",
       "</style>\n",
       "<table border=\"1\" class=\"dataframe\">\n",
       "  <thead>\n",
       "    <tr style=\"text-align: right;\">\n",
       "      <th></th>\n",
       "      <th>Make</th>\n",
       "      <th>Model</th>\n",
       "      <th>Year</th>\n",
       "      <th>Style</th>\n",
       "      <th>Distance</th>\n",
       "      <th>Engine_capacity(cm3)</th>\n",
       "      <th>Fuel_type</th>\n",
       "      <th>AutoTransmission</th>\n",
       "      <th>Price(euro)</th>\n",
       "    </tr>\n",
       "  </thead>\n",
       "  <tbody>\n",
       "    <tr>\n",
       "      <th>32805</th>\n",
       "      <td>Lexus</td>\n",
       "      <td>Es Series</td>\n",
       "      <td>2021</td>\n",
       "      <td>Sedan</td>\n",
       "      <td>19000.0</td>\n",
       "      <td>2495.0</td>\n",
       "      <td>Hybrid</td>\n",
       "      <td>True</td>\n",
       "      <td>30000.0</td>\n",
       "    </tr>\n",
       "    <tr>\n",
       "      <th>30384</th>\n",
       "      <td>Hyundai</td>\n",
       "      <td>IONIQ</td>\n",
       "      <td>2021</td>\n",
       "      <td>Crossover</td>\n",
       "      <td>3800.0</td>\n",
       "      <td>0.0</td>\n",
       "      <td>Electric</td>\n",
       "      <td>True</td>\n",
       "      <td>34999.0</td>\n",
       "    </tr>\n",
       "    <tr>\n",
       "      <th>13595</th>\n",
       "      <td>Dacia</td>\n",
       "      <td>Duster</td>\n",
       "      <td>2021</td>\n",
       "      <td>Crossover</td>\n",
       "      <td>0.0</td>\n",
       "      <td>1500.0</td>\n",
       "      <td>Diesel</td>\n",
       "      <td>False</td>\n",
       "      <td>17900.0</td>\n",
       "    </tr>\n",
       "    <tr>\n",
       "      <th>16405</th>\n",
       "      <td>Mitsubishi</td>\n",
       "      <td>Eclipse Cross</td>\n",
       "      <td>2021</td>\n",
       "      <td>Crossover</td>\n",
       "      <td>0.0</td>\n",
       "      <td>1998.0</td>\n",
       "      <td>Petrol</td>\n",
       "      <td>True</td>\n",
       "      <td>24900.0</td>\n",
       "    </tr>\n",
       "    <tr>\n",
       "      <th>38496</th>\n",
       "      <td>Peugeot</td>\n",
       "      <td>2008</td>\n",
       "      <td>2021</td>\n",
       "      <td>Crossover</td>\n",
       "      <td>2500.0</td>\n",
       "      <td>1500.0</td>\n",
       "      <td>Diesel</td>\n",
       "      <td>True</td>\n",
       "      <td>21200.0</td>\n",
       "    </tr>\n",
       "  </tbody>\n",
       "</table>\n",
       "</div>"
      ],
      "text/plain": [
       "             Make          Model  Year      Style  Distance  \\\n",
       "32805       Lexus      Es Series  2021      Sedan   19000.0   \n",
       "30384     Hyundai          IONIQ  2021  Crossover    3800.0   \n",
       "13595       Dacia         Duster  2021  Crossover       0.0   \n",
       "16405  Mitsubishi  Eclipse Cross  2021  Crossover       0.0   \n",
       "38496     Peugeot           2008  2021  Crossover    2500.0   \n",
       "\n",
       "       Engine_capacity(cm3) Fuel_type  AutoTransmission  Price(euro)  \n",
       "32805                2495.0    Hybrid              True      30000.0  \n",
       "30384                   0.0  Electric              True      34999.0  \n",
       "13595                1500.0    Diesel             False      17900.0  \n",
       "16405                1998.0    Petrol              True      24900.0  \n",
       "38496                1500.0    Diesel              True      21200.0  "
      ]
     },
     "execution_count": 347,
     "metadata": {},
     "output_type": "execute_result"
    }
   ],
   "source": [
    "df.sort_values(by = 'Year', ascending= False).head(5)"
   ]
  },
  {
   "cell_type": "markdown",
   "metadata": {},
   "source": [
    "## Вывод информации о DataFrame"
   ]
  },
  {
   "cell_type": "markdown",
   "metadata": {
    "id": "vIttjv5S2xDi"
   },
   "source": [
    "Выведем информацию о данных при помощи метода `.info() `"
   ]
  },
  {
   "cell_type": "code",
   "execution_count": 348,
   "metadata": {
    "colab": {
     "base_uri": "https://localhost:8080/"
    },
    "id": "_88-hF07r50q",
    "outputId": "41aa533a-8722-44dd-95b4-89ae330e095b"
   },
   "outputs": [
    {
     "name": "stdout",
     "output_type": "stream",
     "text": [
      "<class 'pandas.core.frame.DataFrame'>\n",
      "RangeIndex: 41007 entries, 0 to 41006\n",
      "Data columns (total 9 columns):\n",
      " #   Column                Non-Null Count  Dtype  \n",
      "---  ------                --------------  -----  \n",
      " 0   Make                  40802 non-null  object \n",
      " 1   Model                 40802 non-null  object \n",
      " 2   Year                  41007 non-null  int64  \n",
      " 3   Style                 41007 non-null  object \n",
      " 4   Distance              41007 non-null  float64\n",
      " 5   Engine_capacity(cm3)  40802 non-null  float64\n",
      " 6   Fuel_type             40802 non-null  object \n",
      " 7   AutoTransmission      41007 non-null  bool   \n",
      " 8   Price(euro)           41007 non-null  float64\n",
      "dtypes: bool(1), float64(3), int64(1), object(4)\n",
      "memory usage: 2.5+ MB\n"
     ]
    }
   ],
   "source": [
    "df.info()"
   ]
  },
  {
   "cell_type": "markdown",
   "metadata": {},
   "source": [
    "Из результата видно что `bool`, `int64`, `float64` и `object` — это типы признаков. Видим, что 1 признак — логический (`bool`), 4 признака имеют тип `object` и 3 признаков — числовые c плавоющей точкой (`float`) и 1 целочисленный признак (`int`). Также с помощью метода `info` удобно быстро посмотреть на пропуски в данных, в нашем случае пропуски имеются в столбцах 'Make', 'Model','Engine_capacity(cm3)', 'Fuel_type' - в этих стоблцах на 5 значений меньше, чем в остальных"
   ]
  },
  {
   "cell_type": "markdown",
   "metadata": {},
   "source": [
    "Проверим где пропуски"
   ]
  },
  {
   "cell_type": "code",
   "execution_count": 349,
   "metadata": {},
   "outputs": [
    {
     "name": "stdout",
     "output_type": "stream",
     "text": [
      "Make                    205\n",
      "Model                   205\n",
      "Year                      0\n",
      "Style                     0\n",
      "Distance                  0\n",
      "Engine_capacity(cm3)    205\n",
      "Fuel_type               205\n",
      "AutoTransmission          0\n",
      "Price(euro)               0\n",
      "dtype: int64\n"
     ]
    }
   ],
   "source": [
    "missing_values_count = df.isna().sum()\n",
    "print(missing_values_count)"
   ]
  },
  {
   "cell_type": "markdown",
   "metadata": {
    "id": "wNX4bni124SM"
   },
   "source": [
    "\n",
    "Дополнительно найдем дбликаты данных (методы `.duplicated()` и `.sum()`)"
   ]
  },
  {
   "cell_type": "code",
   "execution_count": 350,
   "metadata": {
    "colab": {
     "base_uri": "https://localhost:8080/"
    },
    "id": "55fptij5sgUQ",
    "outputId": "cbaa4357-040c-4f7e-ddc4-eb0e9ce23615"
   },
   "outputs": [
    {
     "data": {
      "text/plain": [
       "3623"
      ]
     },
     "execution_count": 350,
     "metadata": {},
     "output_type": "execute_result"
    }
   ],
   "source": [
    "df.duplicated().sum()"
   ]
  },
  {
   "cell_type": "markdown",
   "metadata": {},
   "source": [
    "Для категориальных (тип `object`) и булевых (тип `bool`) признаков можно воспользоваться методом `value_counts`. Посмотрим на распределение данных переменной — `Fuel_type`:"
   ]
  },
  {
   "cell_type": "code",
   "execution_count": 351,
   "metadata": {
    "scrolled": true
   },
   "outputs": [
    {
     "data": {
      "text/plain": [
       "Fuel_type\n",
       "Diesel            18810\n",
       "Petrol            14475\n",
       "Metan/Propan       4476\n",
       "Hybrid             2179\n",
       "Plug-in Hybrid      524\n",
       "Electric            338\n",
       "Name: count, dtype: int64"
      ]
     },
     "execution_count": 351,
     "metadata": {},
     "output_type": "execute_result"
    }
   ],
   "source": [
    "df['Fuel_type'].value_counts()"
   ]
  },
  {
   "cell_type": "markdown",
   "metadata": {},
   "source": [
    "<!-- ## Упражнения -->\n",
    "<!-- 1. Посчитайте число уникальных значений в категориальных колонках (`nunique()`) -->\n",
    "<!-- 2. Посчитайте частоту встречи уникальных значений в колонке `Make`. Какой вывод можно сделать из этого если наша цель предсказывать цену популярных автомобилей?\n",
    "3.  Проверьте статистику по годам в базе данных. Какой вывод можно сделать по наиболее старым автомобилям? -->"
   ]
  },
  {
   "cell_type": "code",
   "execution_count": null,
   "metadata": {},
   "outputs": [],
   "source": []
  },
  {
   "cell_type": "markdown",
   "metadata": {
    "id": "wmxKqd9n29AG"
   },
   "source": [
    "# Индексация"
   ]
  },
  {
   "cell_type": "markdown",
   "metadata": {},
   "source": [
    "## Индекскация по колонкам"
   ]
  },
  {
   "cell_type": "markdown",
   "metadata": {},
   "source": [
    "`DataFrame` можно индексировать по-разному. В связи с этим рассмотрим различные способы индексации и извлечения нужных нам данных из датафрейма на примере простых вопросов.\n",
    "\n",
    "\n",
    "\n"
   ]
  },
  {
   "cell_type": "markdown",
   "metadata": {},
   "source": [
    "Для извлечения отдельного столбца можно использовать конструкцию вида `DataFrame['Name']`"
   ]
  },
  {
   "cell_type": "code",
   "execution_count": 352,
   "metadata": {},
   "outputs": [
    {
     "data": {
      "text/html": [
       "<div>\n",
       "<style scoped>\n",
       "    .dataframe tbody tr th:only-of-type {\n",
       "        vertical-align: middle;\n",
       "    }\n",
       "\n",
       "    .dataframe tbody tr th {\n",
       "        vertical-align: top;\n",
       "    }\n",
       "\n",
       "    .dataframe thead th {\n",
       "        text-align: right;\n",
       "    }\n",
       "</style>\n",
       "<table border=\"1\" class=\"dataframe\">\n",
       "  <thead>\n",
       "    <tr style=\"text-align: right;\">\n",
       "      <th></th>\n",
       "      <th>AutoTransmission</th>\n",
       "      <th>Price(euro)</th>\n",
       "    </tr>\n",
       "  </thead>\n",
       "  <tbody>\n",
       "    <tr>\n",
       "      <th>0</th>\n",
       "      <td>True</td>\n",
       "      <td>7750.0</td>\n",
       "    </tr>\n",
       "    <tr>\n",
       "      <th>1</th>\n",
       "      <td>False</td>\n",
       "      <td>8550.0</td>\n",
       "    </tr>\n",
       "    <tr>\n",
       "      <th>2</th>\n",
       "      <td>False</td>\n",
       "      <td>2200.0</td>\n",
       "    </tr>\n",
       "  </tbody>\n",
       "</table>\n",
       "</div>"
      ],
      "text/plain": [
       "   AutoTransmission  Price(euro)\n",
       "0              True       7750.0\n",
       "1             False       8550.0\n",
       "2             False       2200.0"
      ]
     },
     "execution_count": 352,
     "metadata": {},
     "output_type": "execute_result"
    }
   ],
   "source": [
    "df[['AutoTransmission','Price(euro)']].head(3)"
   ]
  },
  {
   "cell_type": "markdown",
   "metadata": {},
   "source": [
    "Тоже самое, но `Series`"
   ]
  },
  {
   "cell_type": "code",
   "execution_count": 353,
   "metadata": {},
   "outputs": [
    {
     "data": {
      "text/plain": [
       "0     True\n",
       "1    False\n",
       "2    False\n",
       "Name: AutoTransmission, dtype: bool"
      ]
     },
     "execution_count": 353,
     "metadata": {},
     "output_type": "execute_result"
    }
   ],
   "source": [
    "df['AutoTransmission'].head(3)"
   ]
  },
  {
   "cell_type": "markdown",
   "metadata": {},
   "source": [
    "Выбирем все колонки кроме цены - как входные данные и создадим целевой датафрейм с колонкой цена.\n"
   ]
  },
  {
   "cell_type": "code",
   "execution_count": 354,
   "metadata": {},
   "outputs": [],
   "source": [
    "df_X = df[[x for x in df.columns if x not in ['Price(euro)']]].copy()\n",
    "df_y = df[['Price(euro)']].copy()"
   ]
  },
  {
   "cell_type": "code",
   "execution_count": 355,
   "metadata": {},
   "outputs": [
    {
     "data": {
      "text/html": [
       "<div>\n",
       "<style scoped>\n",
       "    .dataframe tbody tr th:only-of-type {\n",
       "        vertical-align: middle;\n",
       "    }\n",
       "\n",
       "    .dataframe tbody tr th {\n",
       "        vertical-align: top;\n",
       "    }\n",
       "\n",
       "    .dataframe thead th {\n",
       "        text-align: right;\n",
       "    }\n",
       "</style>\n",
       "<table border=\"1\" class=\"dataframe\">\n",
       "  <thead>\n",
       "    <tr style=\"text-align: right;\">\n",
       "      <th></th>\n",
       "      <th>Make</th>\n",
       "      <th>Model</th>\n",
       "      <th>Year</th>\n",
       "      <th>Style</th>\n",
       "      <th>Distance</th>\n",
       "      <th>Engine_capacity(cm3)</th>\n",
       "      <th>Fuel_type</th>\n",
       "      <th>AutoTransmission</th>\n",
       "    </tr>\n",
       "  </thead>\n",
       "  <tbody>\n",
       "    <tr>\n",
       "      <th>0</th>\n",
       "      <td>Toyota</td>\n",
       "      <td>Prius</td>\n",
       "      <td>2011</td>\n",
       "      <td>Hatchback</td>\n",
       "      <td>195000.0</td>\n",
       "      <td>1800.0</td>\n",
       "      <td>Hybrid</td>\n",
       "      <td>True</td>\n",
       "    </tr>\n",
       "    <tr>\n",
       "      <th>1</th>\n",
       "      <td>Renault</td>\n",
       "      <td>Grand Scenic</td>\n",
       "      <td>2014</td>\n",
       "      <td>Universal</td>\n",
       "      <td>135000.0</td>\n",
       "      <td>1500.0</td>\n",
       "      <td>Diesel</td>\n",
       "      <td>False</td>\n",
       "    </tr>\n",
       "    <tr>\n",
       "      <th>2</th>\n",
       "      <td>Volkswagen</td>\n",
       "      <td>Golf</td>\n",
       "      <td>1998</td>\n",
       "      <td>Hatchback</td>\n",
       "      <td>1.0</td>\n",
       "      <td>1400.0</td>\n",
       "      <td>Petrol</td>\n",
       "      <td>False</td>\n",
       "    </tr>\n",
       "    <tr>\n",
       "      <th>3</th>\n",
       "      <td>Renault</td>\n",
       "      <td>Laguna</td>\n",
       "      <td>2012</td>\n",
       "      <td>Universal</td>\n",
       "      <td>110000.0</td>\n",
       "      <td>1500.0</td>\n",
       "      <td>Diesel</td>\n",
       "      <td>False</td>\n",
       "    </tr>\n",
       "    <tr>\n",
       "      <th>4</th>\n",
       "      <td>Opel</td>\n",
       "      <td>Astra</td>\n",
       "      <td>2006</td>\n",
       "      <td>Universal</td>\n",
       "      <td>200000.0</td>\n",
       "      <td>1600.0</td>\n",
       "      <td>Metan/Propan</td>\n",
       "      <td>False</td>\n",
       "    </tr>\n",
       "    <tr>\n",
       "      <th>...</th>\n",
       "      <td>...</td>\n",
       "      <td>...</td>\n",
       "      <td>...</td>\n",
       "      <td>...</td>\n",
       "      <td>...</td>\n",
       "      <td>...</td>\n",
       "      <td>...</td>\n",
       "      <td>...</td>\n",
       "    </tr>\n",
       "    <tr>\n",
       "      <th>41002</th>\n",
       "      <td>Dacia</td>\n",
       "      <td>Logan Mcv</td>\n",
       "      <td>2015</td>\n",
       "      <td>Universal</td>\n",
       "      <td>89000.0</td>\n",
       "      <td>1500.0</td>\n",
       "      <td>Diesel</td>\n",
       "      <td>False</td>\n",
       "    </tr>\n",
       "    <tr>\n",
       "      <th>41003</th>\n",
       "      <td>Renault</td>\n",
       "      <td>Modus</td>\n",
       "      <td>2009</td>\n",
       "      <td>Hatchback</td>\n",
       "      <td>225.0</td>\n",
       "      <td>1500.0</td>\n",
       "      <td>Diesel</td>\n",
       "      <td>False</td>\n",
       "    </tr>\n",
       "    <tr>\n",
       "      <th>41004</th>\n",
       "      <td>Mercedes</td>\n",
       "      <td>E Class</td>\n",
       "      <td>2016</td>\n",
       "      <td>Sedan</td>\n",
       "      <td>50000.0</td>\n",
       "      <td>1950.0</td>\n",
       "      <td>Diesel</td>\n",
       "      <td>True</td>\n",
       "    </tr>\n",
       "    <tr>\n",
       "      <th>41005</th>\n",
       "      <td>Mazda</td>\n",
       "      <td>6</td>\n",
       "      <td>2006</td>\n",
       "      <td>Combi</td>\n",
       "      <td>370000.0</td>\n",
       "      <td>2000.0</td>\n",
       "      <td>Diesel</td>\n",
       "      <td>False</td>\n",
       "    </tr>\n",
       "    <tr>\n",
       "      <th>41006</th>\n",
       "      <td>Renault</td>\n",
       "      <td>Grand Scenic</td>\n",
       "      <td>2006</td>\n",
       "      <td>Minivan</td>\n",
       "      <td>300000.0</td>\n",
       "      <td>1500.0</td>\n",
       "      <td>Diesel</td>\n",
       "      <td>False</td>\n",
       "    </tr>\n",
       "  </tbody>\n",
       "</table>\n",
       "<p>41007 rows × 8 columns</p>\n",
       "</div>"
      ],
      "text/plain": [
       "             Make         Model  Year      Style  Distance  \\\n",
       "0          Toyota         Prius  2011  Hatchback  195000.0   \n",
       "1         Renault  Grand Scenic  2014  Universal  135000.0   \n",
       "2      Volkswagen          Golf  1998  Hatchback       1.0   \n",
       "3         Renault        Laguna  2012  Universal  110000.0   \n",
       "4            Opel         Astra  2006  Universal  200000.0   \n",
       "...           ...           ...   ...        ...       ...   \n",
       "41002       Dacia     Logan Mcv  2015  Universal   89000.0   \n",
       "41003     Renault         Modus  2009  Hatchback     225.0   \n",
       "41004    Mercedes       E Class  2016      Sedan   50000.0   \n",
       "41005       Mazda             6  2006      Combi  370000.0   \n",
       "41006     Renault  Grand Scenic  2006    Minivan  300000.0   \n",
       "\n",
       "       Engine_capacity(cm3)     Fuel_type  AutoTransmission  \n",
       "0                    1800.0        Hybrid              True  \n",
       "1                    1500.0        Diesel             False  \n",
       "2                    1400.0        Petrol             False  \n",
       "3                    1500.0        Diesel             False  \n",
       "4                    1600.0  Metan/Propan             False  \n",
       "...                     ...           ...               ...  \n",
       "41002                1500.0        Diesel             False  \n",
       "41003                1500.0        Diesel             False  \n",
       "41004                1950.0        Diesel              True  \n",
       "41005                2000.0        Diesel             False  \n",
       "41006                1500.0        Diesel             False  \n",
       "\n",
       "[41007 rows x 8 columns]"
      ]
     },
     "execution_count": 355,
     "metadata": {},
     "output_type": "execute_result"
    }
   ],
   "source": [
    "df_X"
   ]
  },
  {
   "cell_type": "markdown",
   "metadata": {
    "id": "Ds7wJvZJwKzR"
   },
   "source": [
    "## Индексация по слайсам и индексам\n",
    "\n",
    "Датафреймы можно индексировать как по названию столбца или строки, так и по порядковому номеру. Для индексации по названию используется метод `loc`, по номеру — `iloc`.\n",
    "\n",
    "например `.loc[строки, столбцы]` \n",
    "\n",
    "Отметим, что функции `loc` и `iloc` представляют собой прямое обращение  к ячейки памятми `DataFrame` в отличии от обращения впрямую."
   ]
  },
  {
   "cell_type": "code",
   "execution_count": 356,
   "metadata": {
    "colab": {
     "base_uri": "https://localhost:8080/"
    },
    "id": "aQj_Ih7Vyd3u",
    "outputId": "aeb71152-b8fb-40d9-c435-b18589df6d7c",
    "scrolled": true
   },
   "outputs": [
    {
     "data": {
      "text/plain": [
       "0         True\n",
       "1        False\n",
       "2        False\n",
       "3        False\n",
       "4        False\n",
       "         ...  \n",
       "41002    False\n",
       "41003    False\n",
       "41004     True\n",
       "41005    False\n",
       "41006    False\n",
       "Name: AutoTransmission, Length: 41007, dtype: bool"
      ]
     },
     "execution_count": 356,
     "metadata": {},
     "output_type": "execute_result"
    }
   ],
   "source": [
    "df.loc[:,'AutoTransmission']"
   ]
  },
  {
   "cell_type": "markdown",
   "metadata": {},
   "source": [
    "конкретное значение"
   ]
  },
  {
   "cell_type": "code",
   "execution_count": 357,
   "metadata": {
    "colab": {
     "base_uri": "https://localhost:8080/",
     "height": 36
    },
    "id": "PH4dsUSfwC4I",
    "outputId": "2d19b796-c1dc-4f48-f3e4-67b1ade3e86e"
   },
   "outputs": [
    {
     "data": {
      "text/plain": [
       "True"
      ]
     },
     "execution_count": 357,
     "metadata": {},
     "output_type": "execute_result"
    }
   ],
   "source": [
    "df.loc[1437,'AutoTransmission']"
   ]
  },
  {
   "cell_type": "markdown",
   "metadata": {},
   "source": [
    "слайс"
   ]
  },
  {
   "cell_type": "code",
   "execution_count": 358,
   "metadata": {
    "colab": {
     "base_uri": "https://localhost:8080/"
    },
    "id": "vPolzn_uwh33",
    "outputId": "f22106ec-d7ec-4e63-9bd9-e67dc2ced29d",
    "scrolled": true
   },
   "outputs": [
    {
     "data": {
      "text/html": [
       "<div>\n",
       "<style scoped>\n",
       "    .dataframe tbody tr th:only-of-type {\n",
       "        vertical-align: middle;\n",
       "    }\n",
       "\n",
       "    .dataframe tbody tr th {\n",
       "        vertical-align: top;\n",
       "    }\n",
       "\n",
       "    .dataframe thead th {\n",
       "        text-align: right;\n",
       "    }\n",
       "</style>\n",
       "<table border=\"1\" class=\"dataframe\">\n",
       "  <thead>\n",
       "    <tr style=\"text-align: right;\">\n",
       "      <th></th>\n",
       "      <th>AutoTransmission</th>\n",
       "    </tr>\n",
       "  </thead>\n",
       "  <tbody>\n",
       "    <tr>\n",
       "      <th>0</th>\n",
       "      <td>True</td>\n",
       "    </tr>\n",
       "    <tr>\n",
       "      <th>1</th>\n",
       "      <td>False</td>\n",
       "    </tr>\n",
       "    <tr>\n",
       "      <th>2</th>\n",
       "      <td>False</td>\n",
       "    </tr>\n",
       "    <tr>\n",
       "      <th>3</th>\n",
       "      <td>False</td>\n",
       "    </tr>\n",
       "    <tr>\n",
       "      <th>4</th>\n",
       "      <td>False</td>\n",
       "    </tr>\n",
       "    <tr>\n",
       "      <th>5</th>\n",
       "      <td>False</td>\n",
       "    </tr>\n",
       "  </tbody>\n",
       "</table>\n",
       "</div>"
      ],
      "text/plain": [
       "   AutoTransmission\n",
       "0              True\n",
       "1             False\n",
       "2             False\n",
       "3             False\n",
       "4             False\n",
       "5             False"
      ]
     },
     "execution_count": 358,
     "metadata": {},
     "output_type": "execute_result"
    }
   ],
   "source": [
    "df.loc[0:5,['AutoTransmission']]"
   ]
  },
  {
   "cell_type": "code",
   "execution_count": 359,
   "metadata": {
    "colab": {
     "base_uri": "https://localhost:8080/"
    },
    "id": "UNtx8abvwC00",
    "outputId": "c479821b-bdd7-4044-8f2a-411491835d50"
   },
   "outputs": [
    {
     "data": {
      "text/html": [
       "<div>\n",
       "<style scoped>\n",
       "    .dataframe tbody tr th:only-of-type {\n",
       "        vertical-align: middle;\n",
       "    }\n",
       "\n",
       "    .dataframe tbody tr th {\n",
       "        vertical-align: top;\n",
       "    }\n",
       "\n",
       "    .dataframe thead th {\n",
       "        text-align: right;\n",
       "    }\n",
       "</style>\n",
       "<table border=\"1\" class=\"dataframe\">\n",
       "  <thead>\n",
       "    <tr style=\"text-align: right;\">\n",
       "      <th></th>\n",
       "      <th>AutoTransmission</th>\n",
       "      <th>Year</th>\n",
       "    </tr>\n",
       "  </thead>\n",
       "  <tbody>\n",
       "    <tr>\n",
       "      <th>0</th>\n",
       "      <td>True</td>\n",
       "      <td>2011</td>\n",
       "    </tr>\n",
       "    <tr>\n",
       "      <th>1</th>\n",
       "      <td>False</td>\n",
       "      <td>2014</td>\n",
       "    </tr>\n",
       "    <tr>\n",
       "      <th>2</th>\n",
       "      <td>False</td>\n",
       "      <td>1998</td>\n",
       "    </tr>\n",
       "  </tbody>\n",
       "</table>\n",
       "</div>"
      ],
      "text/plain": [
       "   AutoTransmission  Year\n",
       "0              True  2011\n",
       "1             False  2014\n",
       "2             False  1998"
      ]
     },
     "execution_count": 359,
     "metadata": {},
     "output_type": "execute_result"
    }
   ],
   "source": [
    "df.loc[0:10,['AutoTransmission','Year']].head(3)"
   ]
  },
  {
   "cell_type": "code",
   "execution_count": 360,
   "metadata": {
    "colab": {
     "base_uri": "https://localhost:8080/"
    },
    "id": "b0ywiqzQwCwu",
    "outputId": "09de6561-92c6-4685-de3f-b83b6767bf5d",
    "scrolled": true
   },
   "outputs": [
    {
     "data": {
      "text/html": [
       "<div>\n",
       "<style scoped>\n",
       "    .dataframe tbody tr th:only-of-type {\n",
       "        vertical-align: middle;\n",
       "    }\n",
       "\n",
       "    .dataframe tbody tr th {\n",
       "        vertical-align: top;\n",
       "    }\n",
       "\n",
       "    .dataframe thead th {\n",
       "        text-align: right;\n",
       "    }\n",
       "</style>\n",
       "<table border=\"1\" class=\"dataframe\">\n",
       "  <thead>\n",
       "    <tr style=\"text-align: right;\">\n",
       "      <th></th>\n",
       "      <th>Make</th>\n",
       "      <th>Model</th>\n",
       "      <th>Year</th>\n",
       "      <th>Style</th>\n",
       "    </tr>\n",
       "  </thead>\n",
       "  <tbody>\n",
       "    <tr>\n",
       "      <th>0</th>\n",
       "      <td>Toyota</td>\n",
       "      <td>Prius</td>\n",
       "      <td>2011</td>\n",
       "      <td>Hatchback</td>\n",
       "    </tr>\n",
       "    <tr>\n",
       "      <th>1</th>\n",
       "      <td>Renault</td>\n",
       "      <td>Grand Scenic</td>\n",
       "      <td>2014</td>\n",
       "      <td>Universal</td>\n",
       "    </tr>\n",
       "    <tr>\n",
       "      <th>2</th>\n",
       "      <td>Volkswagen</td>\n",
       "      <td>Golf</td>\n",
       "      <td>1998</td>\n",
       "      <td>Hatchback</td>\n",
       "    </tr>\n",
       "  </tbody>\n",
       "</table>\n",
       "</div>"
      ],
      "text/plain": [
       "         Make         Model  Year      Style\n",
       "0      Toyota         Prius  2011  Hatchback\n",
       "1     Renault  Grand Scenic  2014  Universal\n",
       "2  Volkswagen          Golf  1998  Hatchback"
      ]
     },
     "execution_count": 360,
     "metadata": {},
     "output_type": "execute_result"
    }
   ],
   "source": [
    "df.loc[:,'Make':'Style'].head(3)"
   ]
  },
  {
   "cell_type": "markdown",
   "metadata": {},
   "source": [
    "строка"
   ]
  },
  {
   "cell_type": "code",
   "execution_count": 361,
   "metadata": {
    "colab": {
     "base_uri": "https://localhost:8080/"
    },
    "id": "BlQRVsReyl1W",
    "outputId": "bc5a8df7-c8e9-4f04-fbb9-ba67a3b45db6"
   },
   "outputs": [
    {
     "data": {
      "text/plain": [
       "Make                        Honda\n",
       "Model                        CR-V\n",
       "Year                         2002\n",
       "Style                   Universal\n",
       "Distance                 275100.0\n",
       "Engine_capacity(cm3)       2000.0\n",
       "Fuel_type                  Petrol\n",
       "AutoTransmission            False\n",
       "Price(euro)                5900.0\n",
       "Name: 69, dtype: object"
      ]
     },
     "execution_count": 361,
     "metadata": {},
     "output_type": "execute_result"
    }
   ],
   "source": [
    "df.loc[69,:]"
   ]
  },
  {
   "cell_type": "code",
   "execution_count": 362,
   "metadata": {
    "colab": {
     "base_uri": "https://localhost:8080/"
    },
    "id": "3NlCQ4u5w9LQ",
    "outputId": "d4d963c4-10bd-4e5d-dc28-0024438c2d17",
    "scrolled": true
   },
   "outputs": [
    {
     "data": {
      "text/html": [
       "<div>\n",
       "<style scoped>\n",
       "    .dataframe tbody tr th:only-of-type {\n",
       "        vertical-align: middle;\n",
       "    }\n",
       "\n",
       "    .dataframe tbody tr th {\n",
       "        vertical-align: top;\n",
       "    }\n",
       "\n",
       "    .dataframe thead th {\n",
       "        text-align: right;\n",
       "    }\n",
       "</style>\n",
       "<table border=\"1\" class=\"dataframe\">\n",
       "  <thead>\n",
       "    <tr style=\"text-align: right;\">\n",
       "      <th></th>\n",
       "      <th>Make</th>\n",
       "      <th>Model</th>\n",
       "      <th>Year</th>\n",
       "      <th>Style</th>\n",
       "      <th>Distance</th>\n",
       "      <th>Engine_capacity(cm3)</th>\n",
       "      <th>Fuel_type</th>\n",
       "      <th>AutoTransmission</th>\n",
       "      <th>Price(euro)</th>\n",
       "    </tr>\n",
       "  </thead>\n",
       "  <tbody>\n",
       "    <tr>\n",
       "      <th>69</th>\n",
       "      <td>Honda</td>\n",
       "      <td>CR-V</td>\n",
       "      <td>2002</td>\n",
       "      <td>Universal</td>\n",
       "      <td>275100.0</td>\n",
       "      <td>2000.0</td>\n",
       "      <td>Petrol</td>\n",
       "      <td>False</td>\n",
       "      <td>5900.0</td>\n",
       "    </tr>\n",
       "  </tbody>\n",
       "</table>\n",
       "</div>"
      ],
      "text/plain": [
       "     Make Model  Year      Style  Distance  Engine_capacity(cm3) Fuel_type  \\\n",
       "69  Honda  CR-V  2002  Universal  275100.0                2000.0    Petrol   \n",
       "\n",
       "    AutoTransmission  Price(euro)  \n",
       "69             False       5900.0  "
      ]
     },
     "execution_count": 362,
     "metadata": {},
     "output_type": "execute_result"
    }
   ],
   "source": [
    "df.loc[[69],:]"
   ]
  },
  {
   "cell_type": "markdown",
   "metadata": {},
   "source": [
    "слайс строк"
   ]
  },
  {
   "cell_type": "code",
   "execution_count": 363,
   "metadata": {
    "colab": {
     "base_uri": "https://localhost:8080/"
    },
    "id": "Pdm3dYL5xDWT",
    "outputId": "b1ecdbe0-cb67-4acc-e97f-076474dba581"
   },
   "outputs": [
    {
     "data": {
      "text/html": [
       "<div>\n",
       "<style scoped>\n",
       "    .dataframe tbody tr th:only-of-type {\n",
       "        vertical-align: middle;\n",
       "    }\n",
       "\n",
       "    .dataframe tbody tr th {\n",
       "        vertical-align: top;\n",
       "    }\n",
       "\n",
       "    .dataframe thead th {\n",
       "        text-align: right;\n",
       "    }\n",
       "</style>\n",
       "<table border=\"1\" class=\"dataframe\">\n",
       "  <thead>\n",
       "    <tr style=\"text-align: right;\">\n",
       "      <th></th>\n",
       "      <th>Make</th>\n",
       "      <th>Model</th>\n",
       "      <th>Year</th>\n",
       "      <th>Style</th>\n",
       "      <th>Distance</th>\n",
       "      <th>Engine_capacity(cm3)</th>\n",
       "      <th>Fuel_type</th>\n",
       "      <th>AutoTransmission</th>\n",
       "      <th>Price(euro)</th>\n",
       "    </tr>\n",
       "  </thead>\n",
       "  <tbody>\n",
       "    <tr>\n",
       "      <th>322</th>\n",
       "      <td>Volkswagen</td>\n",
       "      <td>Polo</td>\n",
       "      <td>2007</td>\n",
       "      <td>Hatchback</td>\n",
       "      <td>240000.0</td>\n",
       "      <td>1400.0</td>\n",
       "      <td>Diesel</td>\n",
       "      <td>False</td>\n",
       "      <td>3750.0</td>\n",
       "    </tr>\n",
       "    <tr>\n",
       "      <th>323</th>\n",
       "      <td>Audi</td>\n",
       "      <td>A6</td>\n",
       "      <td>2018</td>\n",
       "      <td>Sedan</td>\n",
       "      <td>0.0</td>\n",
       "      <td>1800.0</td>\n",
       "      <td>Petrol</td>\n",
       "      <td>True</td>\n",
       "      <td>25999.0</td>\n",
       "    </tr>\n",
       "    <tr>\n",
       "      <th>324</th>\n",
       "      <td>Hyundai</td>\n",
       "      <td>Santa FE</td>\n",
       "      <td>2015</td>\n",
       "      <td>Crossover</td>\n",
       "      <td>161000.0</td>\n",
       "      <td>2000.0</td>\n",
       "      <td>Diesel</td>\n",
       "      <td>True</td>\n",
       "      <td>18000.0</td>\n",
       "    </tr>\n",
       "  </tbody>\n",
       "</table>\n",
       "</div>"
      ],
      "text/plain": [
       "           Make     Model  Year      Style  Distance  Engine_capacity(cm3)  \\\n",
       "322  Volkswagen      Polo  2007  Hatchback  240000.0                1400.0   \n",
       "323        Audi        A6  2018      Sedan       0.0                1800.0   \n",
       "324     Hyundai  Santa FE  2015  Crossover  161000.0                2000.0   \n",
       "\n",
       "    Fuel_type  AutoTransmission  Price(euro)  \n",
       "322    Diesel             False       3750.0  \n",
       "323    Petrol              True      25999.0  \n",
       "324    Diesel              True      18000.0  "
      ]
     },
     "execution_count": 363,
     "metadata": {},
     "output_type": "execute_result"
    }
   ],
   "source": [
    "df.loc[322:1437,:].head(3)"
   ]
  },
  {
   "cell_type": "code",
   "execution_count": 364,
   "metadata": {
    "colab": {
     "base_uri": "https://localhost:8080/"
    },
    "id": "BXlMcunSyrWt",
    "outputId": "e2160fdf-0490-4990-a3c8-ced98bf1373f"
   },
   "outputs": [
    {
     "data": {
      "text/html": [
       "<div>\n",
       "<style scoped>\n",
       "    .dataframe tbody tr th:only-of-type {\n",
       "        vertical-align: middle;\n",
       "    }\n",
       "\n",
       "    .dataframe tbody tr th {\n",
       "        vertical-align: top;\n",
       "    }\n",
       "\n",
       "    .dataframe thead th {\n",
       "        text-align: right;\n",
       "    }\n",
       "</style>\n",
       "<table border=\"1\" class=\"dataframe\">\n",
       "  <thead>\n",
       "    <tr style=\"text-align: right;\">\n",
       "      <th></th>\n",
       "      <th>Make</th>\n",
       "      <th>Model</th>\n",
       "      <th>Year</th>\n",
       "      <th>Style</th>\n",
       "      <th>Distance</th>\n",
       "      <th>Engine_capacity(cm3)</th>\n",
       "      <th>Fuel_type</th>\n",
       "    </tr>\n",
       "  </thead>\n",
       "  <tbody>\n",
       "    <tr>\n",
       "      <th>227</th>\n",
       "      <td>Audi</td>\n",
       "      <td>Q5</td>\n",
       "      <td>2013</td>\n",
       "      <td>SUV</td>\n",
       "      <td>143000.0</td>\n",
       "      <td>2000.0</td>\n",
       "      <td>Petrol</td>\n",
       "    </tr>\n",
       "    <tr>\n",
       "      <th>228</th>\n",
       "      <td>Volkswagen</td>\n",
       "      <td>Caddy</td>\n",
       "      <td>2013</td>\n",
       "      <td>Universal</td>\n",
       "      <td>174000.0</td>\n",
       "      <td>2000.0</td>\n",
       "      <td>Diesel</td>\n",
       "    </tr>\n",
       "    <tr>\n",
       "      <th>229</th>\n",
       "      <td>Toyota</td>\n",
       "      <td>Prius</td>\n",
       "      <td>2011</td>\n",
       "      <td>Hatchback</td>\n",
       "      <td>121000.0</td>\n",
       "      <td>1800.0</td>\n",
       "      <td>Hybrid</td>\n",
       "    </tr>\n",
       "  </tbody>\n",
       "</table>\n",
       "</div>"
      ],
      "text/plain": [
       "           Make  Model  Year      Style  Distance  Engine_capacity(cm3)  \\\n",
       "227        Audi     Q5  2013        SUV  143000.0                2000.0   \n",
       "228  Volkswagen  Caddy  2013  Universal  174000.0                2000.0   \n",
       "229      Toyota  Prius  2011  Hatchback  121000.0                1800.0   \n",
       "\n",
       "    Fuel_type  \n",
       "227    Petrol  \n",
       "228    Diesel  \n",
       "229    Hybrid  "
      ]
     },
     "execution_count": 364,
     "metadata": {},
     "output_type": "execute_result"
    }
   ],
   "source": [
    "df.loc[227:229,'Make':'Fuel_type']"
   ]
  },
  {
   "cell_type": "markdown",
   "metadata": {},
   "source": [
    "`iloc` индексация"
   ]
  },
  {
   "cell_type": "code",
   "execution_count": 365,
   "metadata": {},
   "outputs": [
    {
     "data": {
      "text/html": [
       "<div>\n",
       "<style scoped>\n",
       "    .dataframe tbody tr th:only-of-type {\n",
       "        vertical-align: middle;\n",
       "    }\n",
       "\n",
       "    .dataframe tbody tr th {\n",
       "        vertical-align: top;\n",
       "    }\n",
       "\n",
       "    .dataframe thead th {\n",
       "        text-align: right;\n",
       "    }\n",
       "</style>\n",
       "<table border=\"1\" class=\"dataframe\">\n",
       "  <thead>\n",
       "    <tr style=\"text-align: right;\">\n",
       "      <th></th>\n",
       "      <th>Make</th>\n",
       "      <th>Model</th>\n",
       "      <th>Year</th>\n",
       "    </tr>\n",
       "  </thead>\n",
       "  <tbody>\n",
       "    <tr>\n",
       "      <th>0</th>\n",
       "      <td>Toyota</td>\n",
       "      <td>Prius</td>\n",
       "      <td>2011</td>\n",
       "    </tr>\n",
       "    <tr>\n",
       "      <th>1</th>\n",
       "      <td>Renault</td>\n",
       "      <td>Grand Scenic</td>\n",
       "      <td>2014</td>\n",
       "    </tr>\n",
       "    <tr>\n",
       "      <th>2</th>\n",
       "      <td>Volkswagen</td>\n",
       "      <td>Golf</td>\n",
       "      <td>1998</td>\n",
       "    </tr>\n",
       "    <tr>\n",
       "      <th>3</th>\n",
       "      <td>Renault</td>\n",
       "      <td>Laguna</td>\n",
       "      <td>2012</td>\n",
       "    </tr>\n",
       "    <tr>\n",
       "      <th>4</th>\n",
       "      <td>Opel</td>\n",
       "      <td>Astra</td>\n",
       "      <td>2006</td>\n",
       "    </tr>\n",
       "  </tbody>\n",
       "</table>\n",
       "</div>"
      ],
      "text/plain": [
       "         Make         Model  Year\n",
       "0      Toyota         Prius  2011\n",
       "1     Renault  Grand Scenic  2014\n",
       "2  Volkswagen          Golf  1998\n",
       "3     Renault        Laguna  2012\n",
       "4        Opel         Astra  2006"
      ]
     },
     "execution_count": 365,
     "metadata": {},
     "output_type": "execute_result"
    }
   ],
   "source": [
    "df.iloc[0:5, 0:3]"
   ]
  },
  {
   "cell_type": "code",
   "execution_count": 366,
   "metadata": {},
   "outputs": [
    {
     "data": {
      "text/html": [
       "<div>\n",
       "<style scoped>\n",
       "    .dataframe tbody tr th:only-of-type {\n",
       "        vertical-align: middle;\n",
       "    }\n",
       "\n",
       "    .dataframe tbody tr th {\n",
       "        vertical-align: top;\n",
       "    }\n",
       "\n",
       "    .dataframe thead th {\n",
       "        text-align: right;\n",
       "    }\n",
       "</style>\n",
       "<table border=\"1\" class=\"dataframe\">\n",
       "  <thead>\n",
       "    <tr style=\"text-align: right;\">\n",
       "      <th></th>\n",
       "      <th>Make</th>\n",
       "      <th>Model</th>\n",
       "      <th>Year</th>\n",
       "      <th>Style</th>\n",
       "      <th>Distance</th>\n",
       "      <th>Engine_capacity(cm3)</th>\n",
       "      <th>Fuel_type</th>\n",
       "      <th>AutoTransmission</th>\n",
       "      <th>Price(euro)</th>\n",
       "    </tr>\n",
       "  </thead>\n",
       "  <tbody>\n",
       "    <tr>\n",
       "      <th>0</th>\n",
       "      <td>Toyota</td>\n",
       "      <td>Prius</td>\n",
       "      <td>2011</td>\n",
       "      <td>Hatchback</td>\n",
       "      <td>195000.0</td>\n",
       "      <td>1800.0</td>\n",
       "      <td>Hybrid</td>\n",
       "      <td>True</td>\n",
       "      <td>7750.0</td>\n",
       "    </tr>\n",
       "  </tbody>\n",
       "</table>\n",
       "</div>"
      ],
      "text/plain": [
       "     Make  Model  Year      Style  Distance  Engine_capacity(cm3) Fuel_type  \\\n",
       "0  Toyota  Prius  2011  Hatchback  195000.0                1800.0    Hybrid   \n",
       "\n",
       "   AutoTransmission  Price(euro)  \n",
       "0              True       7750.0  "
      ]
     },
     "execution_count": 366,
     "metadata": {},
     "output_type": "execute_result"
    }
   ],
   "source": [
    "df.iloc[0:1]"
   ]
  },
  {
   "cell_type": "code",
   "execution_count": 367,
   "metadata": {},
   "outputs": [
    {
     "data": {
      "text/html": [
       "<div>\n",
       "<style scoped>\n",
       "    .dataframe tbody tr th:only-of-type {\n",
       "        vertical-align: middle;\n",
       "    }\n",
       "\n",
       "    .dataframe tbody tr th {\n",
       "        vertical-align: top;\n",
       "    }\n",
       "\n",
       "    .dataframe thead th {\n",
       "        text-align: right;\n",
       "    }\n",
       "</style>\n",
       "<table border=\"1\" class=\"dataframe\">\n",
       "  <thead>\n",
       "    <tr style=\"text-align: right;\">\n",
       "      <th></th>\n",
       "      <th>Make</th>\n",
       "      <th>Model</th>\n",
       "      <th>Year</th>\n",
       "      <th>Style</th>\n",
       "      <th>Distance</th>\n",
       "      <th>Engine_capacity(cm3)</th>\n",
       "      <th>Fuel_type</th>\n",
       "      <th>AutoTransmission</th>\n",
       "      <th>Price(euro)</th>\n",
       "    </tr>\n",
       "  </thead>\n",
       "  <tbody>\n",
       "    <tr>\n",
       "      <th>41006</th>\n",
       "      <td>Renault</td>\n",
       "      <td>Grand Scenic</td>\n",
       "      <td>2006</td>\n",
       "      <td>Minivan</td>\n",
       "      <td>300000.0</td>\n",
       "      <td>1500.0</td>\n",
       "      <td>Diesel</td>\n",
       "      <td>False</td>\n",
       "      <td>4000.0</td>\n",
       "    </tr>\n",
       "  </tbody>\n",
       "</table>\n",
       "</div>"
      ],
      "text/plain": [
       "          Make         Model  Year    Style  Distance  Engine_capacity(cm3)  \\\n",
       "41006  Renault  Grand Scenic  2006  Minivan  300000.0                1500.0   \n",
       "\n",
       "      Fuel_type  AutoTransmission  Price(euro)  \n",
       "41006    Diesel             False       4000.0  "
      ]
     },
     "execution_count": 367,
     "metadata": {},
     "output_type": "execute_result"
    }
   ],
   "source": [
    "df.iloc[-1:]"
   ]
  },
  {
   "cell_type": "markdown",
   "metadata": {
    "id": "jtX-Kh1k3MkJ"
   },
   "source": [
    "## Логическое Индексирование\n",
    "\n",
    "Очень удобной является логическая индексация `DataFrame` по одному столбцу. Выглядит она следующим образом: `df[P(df['Name'])]`, где `P` — это некоторое логическое условие, проверяемое для каждого элемента столбца `Name`. Итогом такой индексации является `DataFrame`, состоящий только из строк, удовлетворяющих условию `P` по столбцу `Name`."
   ]
  },
  {
   "cell_type": "code",
   "execution_count": 368,
   "metadata": {
    "colab": {
     "base_uri": "https://localhost:8080/"
    },
    "id": "mSo58mmN3XT_",
    "outputId": "b5a27d85-0868-4f6b-fc0e-b1aebfed361f"
   },
   "outputs": [
    {
     "data": {
      "text/html": [
       "<div>\n",
       "<style scoped>\n",
       "    .dataframe tbody tr th:only-of-type {\n",
       "        vertical-align: middle;\n",
       "    }\n",
       "\n",
       "    .dataframe tbody tr th {\n",
       "        vertical-align: top;\n",
       "    }\n",
       "\n",
       "    .dataframe thead th {\n",
       "        text-align: right;\n",
       "    }\n",
       "</style>\n",
       "<table border=\"1\" class=\"dataframe\">\n",
       "  <thead>\n",
       "    <tr style=\"text-align: right;\">\n",
       "      <th></th>\n",
       "      <th>Make</th>\n",
       "      <th>Model</th>\n",
       "      <th>Year</th>\n",
       "      <th>Style</th>\n",
       "      <th>Distance</th>\n",
       "      <th>Engine_capacity(cm3)</th>\n",
       "      <th>Fuel_type</th>\n",
       "      <th>AutoTransmission</th>\n",
       "      <th>Price(euro)</th>\n",
       "    </tr>\n",
       "  </thead>\n",
       "  <tbody>\n",
       "    <tr>\n",
       "      <th>1</th>\n",
       "      <td>Renault</td>\n",
       "      <td>Grand Scenic</td>\n",
       "      <td>2014</td>\n",
       "      <td>Universal</td>\n",
       "      <td>135000.0</td>\n",
       "      <td>1500.0</td>\n",
       "      <td>Diesel</td>\n",
       "      <td>False</td>\n",
       "      <td>8550.0</td>\n",
       "    </tr>\n",
       "    <tr>\n",
       "      <th>2</th>\n",
       "      <td>Volkswagen</td>\n",
       "      <td>Golf</td>\n",
       "      <td>1998</td>\n",
       "      <td>Hatchback</td>\n",
       "      <td>1.0</td>\n",
       "      <td>1400.0</td>\n",
       "      <td>Petrol</td>\n",
       "      <td>False</td>\n",
       "      <td>2200.0</td>\n",
       "    </tr>\n",
       "    <tr>\n",
       "      <th>3</th>\n",
       "      <td>Renault</td>\n",
       "      <td>Laguna</td>\n",
       "      <td>2012</td>\n",
       "      <td>Universal</td>\n",
       "      <td>110000.0</td>\n",
       "      <td>1500.0</td>\n",
       "      <td>Diesel</td>\n",
       "      <td>False</td>\n",
       "      <td>6550.0</td>\n",
       "    </tr>\n",
       "  </tbody>\n",
       "</table>\n",
       "</div>"
      ],
      "text/plain": [
       "         Make         Model  Year      Style  Distance  Engine_capacity(cm3)  \\\n",
       "1     Renault  Grand Scenic  2014  Universal  135000.0                1500.0   \n",
       "2  Volkswagen          Golf  1998  Hatchback       1.0                1400.0   \n",
       "3     Renault        Laguna  2012  Universal  110000.0                1500.0   \n",
       "\n",
       "  Fuel_type  AutoTransmission  Price(euro)  \n",
       "1    Diesel             False       8550.0  \n",
       "2    Petrol             False       2200.0  \n",
       "3    Diesel             False       6550.0  "
      ]
     },
     "execution_count": 368,
     "metadata": {},
     "output_type": "execute_result"
    }
   ],
   "source": [
    "df[df['AutoTransmission']==False].head(3)\n"
   ]
  },
  {
   "cell_type": "markdown",
   "metadata": {},
   "source": [
    "Найдем автомобили до 1970 года"
   ]
  },
  {
   "cell_type": "code",
   "execution_count": 369,
   "metadata": {
    "scrolled": true
   },
   "outputs": [
    {
     "data": {
      "text/html": [
       "<div>\n",
       "<style scoped>\n",
       "    .dataframe tbody tr th:only-of-type {\n",
       "        vertical-align: middle;\n",
       "    }\n",
       "\n",
       "    .dataframe tbody tr th {\n",
       "        vertical-align: top;\n",
       "    }\n",
       "\n",
       "    .dataframe thead th {\n",
       "        text-align: right;\n",
       "    }\n",
       "</style>\n",
       "<table border=\"1\" class=\"dataframe\">\n",
       "  <thead>\n",
       "    <tr style=\"text-align: right;\">\n",
       "      <th></th>\n",
       "      <th>Make</th>\n",
       "      <th>Model</th>\n",
       "      <th>Year</th>\n",
       "      <th>Style</th>\n",
       "      <th>Distance</th>\n",
       "      <th>Engine_capacity(cm3)</th>\n",
       "      <th>Fuel_type</th>\n",
       "      <th>AutoTransmission</th>\n",
       "      <th>Price(euro)</th>\n",
       "    </tr>\n",
       "  </thead>\n",
       "  <tbody>\n",
       "    <tr>\n",
       "      <th>3640</th>\n",
       "      <td>Moskvich / Izh</td>\n",
       "      <td>Altele</td>\n",
       "      <td>1964</td>\n",
       "      <td>Sedan</td>\n",
       "      <td>65000.0</td>\n",
       "      <td>100.0</td>\n",
       "      <td>Petrol</td>\n",
       "      <td>False</td>\n",
       "      <td>2500.0</td>\n",
       "    </tr>\n",
       "    <tr>\n",
       "      <th>4088</th>\n",
       "      <td>Zaz</td>\n",
       "      <td>Altele</td>\n",
       "      <td>1966</td>\n",
       "      <td>Sedan</td>\n",
       "      <td>37000.0</td>\n",
       "      <td>900.0</td>\n",
       "      <td>Petrol</td>\n",
       "      <td>False</td>\n",
       "      <td>2800.0</td>\n",
       "    </tr>\n",
       "    <tr>\n",
       "      <th>4187</th>\n",
       "      <td>Moskvich / Izh</td>\n",
       "      <td>Altele</td>\n",
       "      <td>1964</td>\n",
       "      <td>Sedan</td>\n",
       "      <td>45000.0</td>\n",
       "      <td>1200.0</td>\n",
       "      <td>Petrol</td>\n",
       "      <td>False</td>\n",
       "      <td>2300.0</td>\n",
       "    </tr>\n",
       "  </tbody>\n",
       "</table>\n",
       "</div>"
      ],
      "text/plain": [
       "                Make   Model  Year  Style  Distance  Engine_capacity(cm3)  \\\n",
       "3640  Moskvich / Izh  Altele  1964  Sedan   65000.0                 100.0   \n",
       "4088             Zaz  Altele  1966  Sedan   37000.0                 900.0   \n",
       "4187  Moskvich / Izh  Altele  1964  Sedan   45000.0                1200.0   \n",
       "\n",
       "     Fuel_type  AutoTransmission  Price(euro)  \n",
       "3640    Petrol             False       2500.0  \n",
       "4088    Petrol             False       2800.0  \n",
       "4187    Petrol             False       2300.0  "
      ]
     },
     "execution_count": 369,
     "metadata": {},
     "output_type": "execute_result"
    }
   ],
   "source": [
    "df[df['Year']<1970].head(3)"
   ]
  },
  {
   "cell_type": "markdown",
   "metadata": {},
   "source": [
    "Найдем пример очевидно протеворечивых данных\n",
    "\n",
    "для этого можно использовать комбинации условий. Комбинации условий `&` - \"и\", `|` - \"или\", `~` - \"не\""
   ]
  },
  {
   "cell_type": "code",
   "execution_count": 370,
   "metadata": {},
   "outputs": [
    {
     "data": {
      "text/html": [
       "<div>\n",
       "<style scoped>\n",
       "    .dataframe tbody tr th:only-of-type {\n",
       "        vertical-align: middle;\n",
       "    }\n",
       "\n",
       "    .dataframe tbody tr th {\n",
       "        vertical-align: top;\n",
       "    }\n",
       "\n",
       "    .dataframe thead th {\n",
       "        text-align: right;\n",
       "    }\n",
       "</style>\n",
       "<table border=\"1\" class=\"dataframe\">\n",
       "  <thead>\n",
       "    <tr style=\"text-align: right;\">\n",
       "      <th></th>\n",
       "      <th>Make</th>\n",
       "      <th>Model</th>\n",
       "      <th>Year</th>\n",
       "      <th>Style</th>\n",
       "      <th>Distance</th>\n",
       "      <th>Engine_capacity(cm3)</th>\n",
       "      <th>Fuel_type</th>\n",
       "      <th>AutoTransmission</th>\n",
       "      <th>Price(euro)</th>\n",
       "    </tr>\n",
       "  </thead>\n",
       "  <tbody>\n",
       "    <tr>\n",
       "      <th>13394</th>\n",
       "      <td>Audi</td>\n",
       "      <td>100</td>\n",
       "      <td>1900</td>\n",
       "      <td>Sedan</td>\n",
       "      <td>0.0</td>\n",
       "      <td>1000.0</td>\n",
       "      <td>Petrol</td>\n",
       "      <td>True</td>\n",
       "      <td>1500.0</td>\n",
       "    </tr>\n",
       "    <tr>\n",
       "      <th>18214</th>\n",
       "      <td>Volvo</td>\n",
       "      <td>S80</td>\n",
       "      <td>1900</td>\n",
       "      <td>Coupe</td>\n",
       "      <td>1556666.0</td>\n",
       "      <td>1212.0</td>\n",
       "      <td>Petrol</td>\n",
       "      <td>True</td>\n",
       "      <td>10000.0</td>\n",
       "    </tr>\n",
       "    <tr>\n",
       "      <th>18380</th>\n",
       "      <td>Peugeot</td>\n",
       "      <td>206</td>\n",
       "      <td>1900</td>\n",
       "      <td>Sedan</td>\n",
       "      <td>1877.0</td>\n",
       "      <td>1400.0</td>\n",
       "      <td>Petrol</td>\n",
       "      <td>True</td>\n",
       "      <td>3000.0</td>\n",
       "    </tr>\n",
       "  </tbody>\n",
       "</table>\n",
       "</div>"
      ],
      "text/plain": [
       "          Make Model  Year  Style   Distance  Engine_capacity(cm3) Fuel_type  \\\n",
       "13394     Audi   100  1900  Sedan        0.0                1000.0    Petrol   \n",
       "18214    Volvo   S80  1900  Coupe  1556666.0                1212.0    Petrol   \n",
       "18380  Peugeot   206  1900  Sedan     1877.0                1400.0    Petrol   \n",
       "\n",
       "       AutoTransmission  Price(euro)  \n",
       "13394              True       1500.0  \n",
       "18214              True      10000.0  \n",
       "18380              True       3000.0  "
      ]
     },
     "execution_count": 370,
     "metadata": {},
     "output_type": "execute_result"
    }
   ],
   "source": [
    "df[(df['Year']<1950)&(df['AutoTransmission']==True)].head(3)"
   ]
  },
  {
   "cell_type": "markdown",
   "metadata": {},
   "source": [
    "Воспользуемся этим для ответа на вопрос: каково среднее значение цены на `Toyota Land Cruiser Prado` с автоматической коробкой передч `2012` года\n",
    "\n"
   ]
  },
  {
   "cell_type": "code",
   "execution_count": 371,
   "metadata": {},
   "outputs": [
    {
     "data": {
      "text/plain": [
       "38354.27272727273"
      ]
     },
     "execution_count": 371,
     "metadata": {},
     "output_type": "execute_result"
    }
   ],
   "source": [
    "df_selet = df[\n",
    "    (df['AutoTransmission']==True)&\\\n",
    "    (df['Make']=='Toyota')&\\\n",
    "    (df['Year']==2012)&\\\n",
    "    (df['Model']=='Land Cruiser Prado')\n",
    "]\n",
    "df_selet['Price(euro)'].mean()"
   ]
  },
  {
   "cell_type": "markdown",
   "metadata": {},
   "source": [
    "## Упражнения\n",
    "<!-- 1. Выбирите `DataFrame` без пустых записей (`df.isna()` - для проверки пустых значений.)\n",
    "   > *Подсказка*. Можно использовать метод `.dropna()` вместо условия. -->\n",
    "1. Отфильтруйте часть `DataFrame` от записей очевидно противоречащами здравому смыслу, например:\n",
    "    <!-- * пробег в год: пробег автомобиля (`Distance`) меньше `1000 км` и год автомобиля меньше `2021`.\n",
    "      > *Подсказка*. Для этого можно использовать или комбинацию фильтров \n",
    "      > или воспользоваться переменной год автомобиля\n",
    "      > ```python\n",
    "      > df['Year'].max()+1 - df['Year']`.\n",
    "      > ``` -->\n",
    "    * объем двиготеля (`Engine_capacity(cm3)`) меньше `200 см3` или больше `5000 см3`\n",
    "    * цена (`Price(euro)`) - выбирите сами\n",
    "      > *Подсказка*. Можно использовать `df_selet[['Price(euro)']].describe()`\n",
    "    * год авто с автоматической трансмиссией (аналогично примеру выше)\n",
    "    * свой вариант?\n",
    "<!-- 4. Выбирите часть `DataFrame` без пропусков и часть с пропусками -->\n",
    "2. Выбирите часть `DataFrame` только с численными колонками      \n",
    "3. Сделайте функцию которая по заданным параметрам `Make`, `Model`и `Year` выводит датафрейм с типами `AutoTransmission`"
   ]
  },
  {
   "cell_type": "markdown",
   "metadata": {},
   "source": [
    "<details>\n",
    "    \n",
    "  <summary><i>Подсказка</i> к 1 задаче</summary><br>\n",
    "    \n",
    "```python\n",
    "    df_selet = df.copy()\n",
    "    \n",
    "    df_selet =  df_selet[\n",
    "        (df_selet['Engine_capacity(cm3)']>200)&\\\n",
    "        (df_selet['Engine_capacity(cm3)']<5000)\n",
    "    ]\n",
    "    \n",
    "    df_selet =  df_selet[\n",
    "        (df_selet['Price(euro)']<=0.9*df_selet['Price(euro)'].max())\n",
    "    ]\n",
    "    \n",
    "    df_selet =  df_selet[\n",
    "        (df_selet['Price(euro)']>df_selet['Price(euro)'].min())\n",
    "    ]\n",
    "    \n",
    "    df_selet =  df_selet[\n",
    "        ~((df_selet['Year']<1970)&\\\n",
    "          (df_selet['AutoTransmission']==True))\n",
    "    ]\n",
    "    \n",
    "    df = df_selet.copy()\n",
    "```\n",
    "\n",
    "</detailed>"
   ]
  },
  {
   "cell_type": "code",
   "execution_count": null,
   "metadata": {
    "scrolled": true
   },
   "outputs": [],
   "source": []
  },
  {
   "cell_type": "code",
   "execution_count": null,
   "metadata": {},
   "outputs": [],
   "source": []
  },
  {
   "cell_type": "markdown",
   "metadata": {},
   "source": [
    "# Предобработка DataFrame"
   ]
  },
  {
   "cell_type": "markdown",
   "metadata": {},
   "source": [
    "## Простые операции"
   ]
  },
  {
   "cell_type": "markdown",
   "metadata": {
    "id": "Nudt51N3tp8B"
   },
   "source": [
    "### Удаление дубликатов\n",
    "\n",
    "Методы `.drop_duplicates()` и `.reset_index()`"
   ]
  },
  {
   "cell_type": "code",
   "execution_count": 375,
   "metadata": {
    "colab": {
     "base_uri": "https://localhost:8080/",
     "height": 423
    },
    "id": "KdxRhTsbvrTP",
    "outputId": "9527934b-7b58-435b-f9a5-67c5908becee",
    "scrolled": true
   },
   "outputs": [
    {
     "data": {
      "text/html": [
       "<div>\n",
       "<style scoped>\n",
       "    .dataframe tbody tr th:only-of-type {\n",
       "        vertical-align: middle;\n",
       "    }\n",
       "\n",
       "    .dataframe tbody tr th {\n",
       "        vertical-align: top;\n",
       "    }\n",
       "\n",
       "    .dataframe thead th {\n",
       "        text-align: right;\n",
       "    }\n",
       "</style>\n",
       "<table border=\"1\" class=\"dataframe\">\n",
       "  <thead>\n",
       "    <tr style=\"text-align: right;\">\n",
       "      <th></th>\n",
       "      <th>Make</th>\n",
       "      <th>Model</th>\n",
       "      <th>Year</th>\n",
       "      <th>Style</th>\n",
       "      <th>Distance</th>\n",
       "      <th>Engine_capacity(cm3)</th>\n",
       "      <th>Fuel_type</th>\n",
       "      <th>AutoTransmission</th>\n",
       "      <th>Price(euro)</th>\n",
       "    </tr>\n",
       "  </thead>\n",
       "  <tbody>\n",
       "    <tr>\n",
       "      <th>0</th>\n",
       "      <td>Toyota</td>\n",
       "      <td>Prius</td>\n",
       "      <td>2011</td>\n",
       "      <td>Hatchback</td>\n",
       "      <td>195000.0</td>\n",
       "      <td>1800.0</td>\n",
       "      <td>Hybrid</td>\n",
       "      <td>True</td>\n",
       "      <td>7750.0</td>\n",
       "    </tr>\n",
       "    <tr>\n",
       "      <th>1</th>\n",
       "      <td>Renault</td>\n",
       "      <td>Grand Scenic</td>\n",
       "      <td>2014</td>\n",
       "      <td>Universal</td>\n",
       "      <td>135000.0</td>\n",
       "      <td>1500.0</td>\n",
       "      <td>Diesel</td>\n",
       "      <td>False</td>\n",
       "      <td>8550.0</td>\n",
       "    </tr>\n",
       "    <tr>\n",
       "      <th>2</th>\n",
       "      <td>Volkswagen</td>\n",
       "      <td>Golf</td>\n",
       "      <td>1998</td>\n",
       "      <td>Hatchback</td>\n",
       "      <td>1.0</td>\n",
       "      <td>1400.0</td>\n",
       "      <td>Petrol</td>\n",
       "      <td>False</td>\n",
       "      <td>2200.0</td>\n",
       "    </tr>\n",
       "  </tbody>\n",
       "</table>\n",
       "</div>"
      ],
      "text/plain": [
       "         Make         Model  Year      Style  Distance  Engine_capacity(cm3)  \\\n",
       "0      Toyota         Prius  2011  Hatchback  195000.0                1800.0   \n",
       "1     Renault  Grand Scenic  2014  Universal  135000.0                1500.0   \n",
       "2  Volkswagen          Golf  1998  Hatchback       1.0                1400.0   \n",
       "\n",
       "  Fuel_type  AutoTransmission  Price(euro)  \n",
       "0    Hybrid              True       7750.0  \n",
       "1    Diesel             False       8550.0  \n",
       "2    Petrol             False       2200.0  "
      ]
     },
     "execution_count": 375,
     "metadata": {},
     "output_type": "execute_result"
    }
   ],
   "source": [
    "df = df.drop_duplicates()\n",
    "\n",
    "df = df.reset_index(drop=True)\n",
    "\n",
    "df.head(3)"
   ]
  },
  {
   "cell_type": "markdown",
   "metadata": {},
   "source": [
    "Также удалим пропуски. Но отметим, что удаление пропусков в реальных задачах требует обоснования. Иногда пропуски лучше заполнить, чем удалить"
   ]
  },
  {
   "cell_type": "code",
   "execution_count": 376,
   "metadata": {},
   "outputs": [],
   "source": [
    "df = df.dropna()\n",
    "df = df.reset_index(drop=True)"
   ]
  },
  {
   "cell_type": "markdown",
   "metadata": {},
   "source": [
    "__Предлагается__ в качестве упражнени на дом найти пропуски в данных и по возможности заполнить их ближайшими по смыслу условиями."
   ]
  },
  {
   "cell_type": "markdown",
   "metadata": {},
   "source": [
    "### Создание своих столбцев\n",
    "\n",
    "Зная суть или модель данных, мы можем предположить, чего нам не хватает - то есть попробовать добавить новый признак в данные. Такую операцию можно провести по-разному. В данном случае мы сделаем это исходя из логики. Введем признак пробег в год (`km_year`)."
   ]
  },
  {
   "cell_type": "code",
   "execution_count": 377,
   "metadata": {},
   "outputs": [],
   "source": [
    "df['Age'] = df.Year.max()+1 - df.Year\n",
    "\n",
    "df['km_year'] = df.Distance/df.Age"
   ]
  },
  {
   "cell_type": "markdown",
   "metadata": {},
   "source": [
    "Применение функции к каждой ячейке `map`"
   ]
  },
  {
   "cell_type": "code",
   "execution_count": 378,
   "metadata": {
    "scrolled": true
   },
   "outputs": [
    {
     "data": {
      "text/html": [
       "<div>\n",
       "<style scoped>\n",
       "    .dataframe tbody tr th:only-of-type {\n",
       "        vertical-align: middle;\n",
       "    }\n",
       "\n",
       "    .dataframe tbody tr th {\n",
       "        vertical-align: top;\n",
       "    }\n",
       "\n",
       "    .dataframe thead th {\n",
       "        text-align: right;\n",
       "    }\n",
       "</style>\n",
       "<table border=\"1\" class=\"dataframe\">\n",
       "  <thead>\n",
       "    <tr style=\"text-align: right;\">\n",
       "      <th></th>\n",
       "      <th>Make</th>\n",
       "      <th>Model</th>\n",
       "      <th>Year</th>\n",
       "      <th>Style</th>\n",
       "      <th>Distance</th>\n",
       "      <th>Engine_capacity(cm3)</th>\n",
       "      <th>Fuel_type</th>\n",
       "      <th>AutoTransmission</th>\n",
       "      <th>Price(euro)</th>\n",
       "      <th>Age</th>\n",
       "      <th>km_year</th>\n",
       "      <th>Transmission</th>\n",
       "    </tr>\n",
       "  </thead>\n",
       "  <tbody>\n",
       "    <tr>\n",
       "      <th>0</th>\n",
       "      <td>Toyota</td>\n",
       "      <td>Prius</td>\n",
       "      <td>2011</td>\n",
       "      <td>Hatchback</td>\n",
       "      <td>195000.0</td>\n",
       "      <td>1800.0</td>\n",
       "      <td>Hybrid</td>\n",
       "      <td>True</td>\n",
       "      <td>7750.0</td>\n",
       "      <td>11</td>\n",
       "      <td>17727.272727</td>\n",
       "      <td>Automatic</td>\n",
       "    </tr>\n",
       "    <tr>\n",
       "      <th>1</th>\n",
       "      <td>Renault</td>\n",
       "      <td>Grand Scenic</td>\n",
       "      <td>2014</td>\n",
       "      <td>Universal</td>\n",
       "      <td>135000.0</td>\n",
       "      <td>1500.0</td>\n",
       "      <td>Diesel</td>\n",
       "      <td>False</td>\n",
       "      <td>8550.0</td>\n",
       "      <td>8</td>\n",
       "      <td>16875.000000</td>\n",
       "      <td>Manual</td>\n",
       "    </tr>\n",
       "    <tr>\n",
       "      <th>2</th>\n",
       "      <td>Volkswagen</td>\n",
       "      <td>Golf</td>\n",
       "      <td>1998</td>\n",
       "      <td>Hatchback</td>\n",
       "      <td>1.0</td>\n",
       "      <td>1400.0</td>\n",
       "      <td>Petrol</td>\n",
       "      <td>False</td>\n",
       "      <td>2200.0</td>\n",
       "      <td>24</td>\n",
       "      <td>0.041667</td>\n",
       "      <td>Manual</td>\n",
       "    </tr>\n",
       "    <tr>\n",
       "      <th>3</th>\n",
       "      <td>Renault</td>\n",
       "      <td>Laguna</td>\n",
       "      <td>2012</td>\n",
       "      <td>Universal</td>\n",
       "      <td>110000.0</td>\n",
       "      <td>1500.0</td>\n",
       "      <td>Diesel</td>\n",
       "      <td>False</td>\n",
       "      <td>6550.0</td>\n",
       "      <td>10</td>\n",
       "      <td>11000.000000</td>\n",
       "      <td>Manual</td>\n",
       "    </tr>\n",
       "    <tr>\n",
       "      <th>4</th>\n",
       "      <td>Opel</td>\n",
       "      <td>Astra</td>\n",
       "      <td>2006</td>\n",
       "      <td>Universal</td>\n",
       "      <td>200000.0</td>\n",
       "      <td>1600.0</td>\n",
       "      <td>Metan/Propan</td>\n",
       "      <td>False</td>\n",
       "      <td>4100.0</td>\n",
       "      <td>16</td>\n",
       "      <td>12500.000000</td>\n",
       "      <td>Manual</td>\n",
       "    </tr>\n",
       "  </tbody>\n",
       "</table>\n",
       "</div>"
      ],
      "text/plain": [
       "         Make         Model  Year      Style  Distance  Engine_capacity(cm3)  \\\n",
       "0      Toyota         Prius  2011  Hatchback  195000.0                1800.0   \n",
       "1     Renault  Grand Scenic  2014  Universal  135000.0                1500.0   \n",
       "2  Volkswagen          Golf  1998  Hatchback       1.0                1400.0   \n",
       "3     Renault        Laguna  2012  Universal  110000.0                1500.0   \n",
       "4        Opel         Astra  2006  Universal  200000.0                1600.0   \n",
       "\n",
       "      Fuel_type  AutoTransmission  Price(euro)  Age       km_year Transmission  \n",
       "0        Hybrid              True       7750.0   11  17727.272727    Automatic  \n",
       "1        Diesel             False       8550.0    8  16875.000000       Manual  \n",
       "2        Petrol             False       2200.0   24      0.041667       Manual  \n",
       "3        Diesel             False       6550.0   10  11000.000000       Manual  \n",
       "4  Metan/Propan             False       4100.0   16  12500.000000       Manual  "
      ]
     },
     "execution_count": 378,
     "metadata": {},
     "output_type": "execute_result"
    }
   ],
   "source": [
    "d = {True : 'Automatic', False : 'Manual'}\n",
    "df['Transmission'] = df['AutoTransmission'].map(d)\n",
    "df.head()"
   ]
  },
  {
   "cell_type": "markdown",
   "metadata": {},
   "source": [
    "Также давайте считать, что условный пробег в год может быть небольшим (например до 10 000 в год), средним (от 10 000 до 30 000) и большим (все что свыше). Создадим функцию которая бы реализовала эту функцию."
   ]
  },
  {
   "cell_type": "code",
   "execution_count": 379,
   "metadata": {},
   "outputs": [],
   "source": [
    "def km_year_category(km_year):\n",
    "    if km_year <= 10_000:\n",
    "        return 'Small'\n",
    "    elif km_year > 10_000 and km_year <= 30_000:\n",
    "        return 'Medium'\n",
    "    else:\n",
    "        return 'Large'"
   ]
  },
  {
   "cell_type": "markdown",
   "metadata": {},
   "source": [
    "Создадим новый столбец и заполним его при помощи функции `apply`, которая применяет к заданному столбцу функцию, передаваяему в качестве аргумента."
   ]
  },
  {
   "cell_type": "code",
   "execution_count": 380,
   "metadata": {
    "scrolled": true
   },
   "outputs": [
    {
     "data": {
      "text/html": [
       "<div>\n",
       "<style scoped>\n",
       "    .dataframe tbody tr th:only-of-type {\n",
       "        vertical-align: middle;\n",
       "    }\n",
       "\n",
       "    .dataframe tbody tr th {\n",
       "        vertical-align: top;\n",
       "    }\n",
       "\n",
       "    .dataframe thead th {\n",
       "        text-align: right;\n",
       "    }\n",
       "</style>\n",
       "<table border=\"1\" class=\"dataframe\">\n",
       "  <thead>\n",
       "    <tr style=\"text-align: right;\">\n",
       "      <th></th>\n",
       "      <th>Make</th>\n",
       "      <th>Model</th>\n",
       "      <th>Year</th>\n",
       "      <th>Style</th>\n",
       "      <th>Distance</th>\n",
       "      <th>Engine_capacity(cm3)</th>\n",
       "      <th>Fuel_type</th>\n",
       "      <th>AutoTransmission</th>\n",
       "      <th>Price(euro)</th>\n",
       "      <th>Age</th>\n",
       "      <th>km_year</th>\n",
       "      <th>Transmission</th>\n",
       "      <th>km_year_cat</th>\n",
       "    </tr>\n",
       "  </thead>\n",
       "  <tbody>\n",
       "    <tr>\n",
       "      <th>0</th>\n",
       "      <td>Toyota</td>\n",
       "      <td>Prius</td>\n",
       "      <td>2011</td>\n",
       "      <td>Hatchback</td>\n",
       "      <td>195000.0</td>\n",
       "      <td>1800.0</td>\n",
       "      <td>Hybrid</td>\n",
       "      <td>True</td>\n",
       "      <td>7750.0</td>\n",
       "      <td>11</td>\n",
       "      <td>17727.272727</td>\n",
       "      <td>Automatic</td>\n",
       "      <td>Medium</td>\n",
       "    </tr>\n",
       "    <tr>\n",
       "      <th>1</th>\n",
       "      <td>Renault</td>\n",
       "      <td>Grand Scenic</td>\n",
       "      <td>2014</td>\n",
       "      <td>Universal</td>\n",
       "      <td>135000.0</td>\n",
       "      <td>1500.0</td>\n",
       "      <td>Diesel</td>\n",
       "      <td>False</td>\n",
       "      <td>8550.0</td>\n",
       "      <td>8</td>\n",
       "      <td>16875.000000</td>\n",
       "      <td>Manual</td>\n",
       "      <td>Medium</td>\n",
       "    </tr>\n",
       "    <tr>\n",
       "      <th>2</th>\n",
       "      <td>Volkswagen</td>\n",
       "      <td>Golf</td>\n",
       "      <td>1998</td>\n",
       "      <td>Hatchback</td>\n",
       "      <td>1.0</td>\n",
       "      <td>1400.0</td>\n",
       "      <td>Petrol</td>\n",
       "      <td>False</td>\n",
       "      <td>2200.0</td>\n",
       "      <td>24</td>\n",
       "      <td>0.041667</td>\n",
       "      <td>Manual</td>\n",
       "      <td>Small</td>\n",
       "    </tr>\n",
       "  </tbody>\n",
       "</table>\n",
       "</div>"
      ],
      "text/plain": [
       "         Make         Model  Year      Style  Distance  Engine_capacity(cm3)  \\\n",
       "0      Toyota         Prius  2011  Hatchback  195000.0                1800.0   \n",
       "1     Renault  Grand Scenic  2014  Universal  135000.0                1500.0   \n",
       "2  Volkswagen          Golf  1998  Hatchback       1.0                1400.0   \n",
       "\n",
       "  Fuel_type  AutoTransmission  Price(euro)  Age       km_year Transmission  \\\n",
       "0    Hybrid              True       7750.0   11  17727.272727    Automatic   \n",
       "1    Diesel             False       8550.0    8  16875.000000       Manual   \n",
       "2    Petrol             False       2200.0   24      0.041667       Manual   \n",
       "\n",
       "  km_year_cat  \n",
       "0      Medium  \n",
       "1      Medium  \n",
       "2       Small  "
      ]
     },
     "execution_count": 380,
     "metadata": {},
     "output_type": "execute_result"
    }
   ],
   "source": [
    "df[\"km_year_cat\"] = df[\"km_year\"].apply(km_year_category)\n",
    "df.head(3)"
   ]
  },
  {
   "cell_type": "markdown",
   "metadata": {},
   "source": [
    "### Удаление лишних столбцев"
   ]
  },
  {
   "cell_type": "code",
   "execution_count": 381,
   "metadata": {
    "scrolled": true
   },
   "outputs": [
    {
     "data": {
      "text/html": [
       "<div>\n",
       "<style scoped>\n",
       "    .dataframe tbody tr th:only-of-type {\n",
       "        vertical-align: middle;\n",
       "    }\n",
       "\n",
       "    .dataframe tbody tr th {\n",
       "        vertical-align: top;\n",
       "    }\n",
       "\n",
       "    .dataframe thead th {\n",
       "        text-align: right;\n",
       "    }\n",
       "</style>\n",
       "<table border=\"1\" class=\"dataframe\">\n",
       "  <thead>\n",
       "    <tr style=\"text-align: right;\">\n",
       "      <th></th>\n",
       "      <th>Make</th>\n",
       "      <th>Model</th>\n",
       "      <th>Year</th>\n",
       "      <th>Style</th>\n",
       "      <th>Distance</th>\n",
       "      <th>Engine_capacity(cm3)</th>\n",
       "      <th>Fuel_type</th>\n",
       "      <th>Price(euro)</th>\n",
       "      <th>km_year</th>\n",
       "      <th>Transmission</th>\n",
       "      <th>km_year_cat</th>\n",
       "    </tr>\n",
       "  </thead>\n",
       "  <tbody>\n",
       "    <tr>\n",
       "      <th>0</th>\n",
       "      <td>Toyota</td>\n",
       "      <td>Prius</td>\n",
       "      <td>2011</td>\n",
       "      <td>Hatchback</td>\n",
       "      <td>195000.0</td>\n",
       "      <td>1800.0</td>\n",
       "      <td>Hybrid</td>\n",
       "      <td>7750.0</td>\n",
       "      <td>17727.272727</td>\n",
       "      <td>Automatic</td>\n",
       "      <td>Medium</td>\n",
       "    </tr>\n",
       "    <tr>\n",
       "      <th>1</th>\n",
       "      <td>Renault</td>\n",
       "      <td>Grand Scenic</td>\n",
       "      <td>2014</td>\n",
       "      <td>Universal</td>\n",
       "      <td>135000.0</td>\n",
       "      <td>1500.0</td>\n",
       "      <td>Diesel</td>\n",
       "      <td>8550.0</td>\n",
       "      <td>16875.000000</td>\n",
       "      <td>Manual</td>\n",
       "      <td>Medium</td>\n",
       "    </tr>\n",
       "    <tr>\n",
       "      <th>2</th>\n",
       "      <td>Volkswagen</td>\n",
       "      <td>Golf</td>\n",
       "      <td>1998</td>\n",
       "      <td>Hatchback</td>\n",
       "      <td>1.0</td>\n",
       "      <td>1400.0</td>\n",
       "      <td>Petrol</td>\n",
       "      <td>2200.0</td>\n",
       "      <td>0.041667</td>\n",
       "      <td>Manual</td>\n",
       "      <td>Small</td>\n",
       "    </tr>\n",
       "  </tbody>\n",
       "</table>\n",
       "</div>"
      ],
      "text/plain": [
       "         Make         Model  Year      Style  Distance  Engine_capacity(cm3)  \\\n",
       "0      Toyota         Prius  2011  Hatchback  195000.0                1800.0   \n",
       "1     Renault  Grand Scenic  2014  Universal  135000.0                1500.0   \n",
       "2  Volkswagen          Golf  1998  Hatchback       1.0                1400.0   \n",
       "\n",
       "  Fuel_type  Price(euro)       km_year Transmission km_year_cat  \n",
       "0    Hybrid       7750.0  17727.272727    Automatic      Medium  \n",
       "1    Diesel       8550.0  16875.000000       Manual      Medium  \n",
       "2    Petrol       2200.0      0.041667       Manual       Small  "
      ]
     },
     "execution_count": 381,
     "metadata": {},
     "output_type": "execute_result"
    }
   ],
   "source": [
    "df = df.drop(columns = ['Age','AutoTransmission'])\n",
    "df.head(3)"
   ]
  },
  {
   "cell_type": "markdown",
   "metadata": {},
   "source": [
    "### Удаление при помощи фильтра по индексам"
   ]
  },
  {
   "cell_type": "code",
   "execution_count": 382,
   "metadata": {},
   "outputs": [
    {
     "data": {
      "text/html": [
       "<div>\n",
       "<style scoped>\n",
       "    .dataframe tbody tr th:only-of-type {\n",
       "        vertical-align: middle;\n",
       "    }\n",
       "\n",
       "    .dataframe tbody tr th {\n",
       "        vertical-align: top;\n",
       "    }\n",
       "\n",
       "    .dataframe thead th {\n",
       "        text-align: right;\n",
       "    }\n",
       "</style>\n",
       "<table border=\"1\" class=\"dataframe\">\n",
       "  <thead>\n",
       "    <tr style=\"text-align: right;\">\n",
       "      <th></th>\n",
       "      <th>Make</th>\n",
       "      <th>Model</th>\n",
       "      <th>Year</th>\n",
       "      <th>Style</th>\n",
       "      <th>Distance</th>\n",
       "      <th>Engine_capacity(cm3)</th>\n",
       "      <th>Fuel_type</th>\n",
       "      <th>Price(euro)</th>\n",
       "      <th>km_year</th>\n",
       "      <th>Transmission</th>\n",
       "      <th>km_year_cat</th>\n",
       "    </tr>\n",
       "  </thead>\n",
       "  <tbody>\n",
       "    <tr>\n",
       "      <th>31644</th>\n",
       "      <td>Volkswagen</td>\n",
       "      <td>Passat</td>\n",
       "      <td>2016</td>\n",
       "      <td>Sedan</td>\n",
       "      <td>88000.0</td>\n",
       "      <td>1800.0</td>\n",
       "      <td>Petrol</td>\n",
       "      <td>11500.0</td>\n",
       "      <td>14666.666667</td>\n",
       "      <td>Automatic</td>\n",
       "      <td>Medium</td>\n",
       "    </tr>\n",
       "    <tr>\n",
       "      <th>31645</th>\n",
       "      <td>Land Rover</td>\n",
       "      <td>Freelander</td>\n",
       "      <td>2002</td>\n",
       "      <td>Crossover</td>\n",
       "      <td>225000.0</td>\n",
       "      <td>1800.0</td>\n",
       "      <td>Metan/Propan</td>\n",
       "      <td>4400.0</td>\n",
       "      <td>11250.000000</td>\n",
       "      <td>Manual</td>\n",
       "      <td>Medium</td>\n",
       "    </tr>\n",
       "    <tr>\n",
       "      <th>31646</th>\n",
       "      <td>Dacia</td>\n",
       "      <td>Logan Mcv</td>\n",
       "      <td>2015</td>\n",
       "      <td>Universal</td>\n",
       "      <td>89000.0</td>\n",
       "      <td>1500.0</td>\n",
       "      <td>Diesel</td>\n",
       "      <td>7000.0</td>\n",
       "      <td>12714.285714</td>\n",
       "      <td>Manual</td>\n",
       "      <td>Medium</td>\n",
       "    </tr>\n",
       "    <tr>\n",
       "      <th>31647</th>\n",
       "      <td>Mazda</td>\n",
       "      <td>6</td>\n",
       "      <td>2006</td>\n",
       "      <td>Combi</td>\n",
       "      <td>370000.0</td>\n",
       "      <td>2000.0</td>\n",
       "      <td>Diesel</td>\n",
       "      <td>4000.0</td>\n",
       "      <td>23125.000000</td>\n",
       "      <td>Manual</td>\n",
       "      <td>Medium</td>\n",
       "    </tr>\n",
       "    <tr>\n",
       "      <th>31648</th>\n",
       "      <td>Renault</td>\n",
       "      <td>Grand Scenic</td>\n",
       "      <td>2006</td>\n",
       "      <td>Minivan</td>\n",
       "      <td>300000.0</td>\n",
       "      <td>1500.0</td>\n",
       "      <td>Diesel</td>\n",
       "      <td>4000.0</td>\n",
       "      <td>18750.000000</td>\n",
       "      <td>Manual</td>\n",
       "      <td>Medium</td>\n",
       "    </tr>\n",
       "  </tbody>\n",
       "</table>\n",
       "</div>"
      ],
      "text/plain": [
       "             Make         Model  Year      Style  Distance  \\\n",
       "31644  Volkswagen        Passat  2016      Sedan   88000.0   \n",
       "31645  Land Rover    Freelander  2002  Crossover  225000.0   \n",
       "31646       Dacia     Logan Mcv  2015  Universal   89000.0   \n",
       "31647       Mazda             6  2006      Combi  370000.0   \n",
       "31648     Renault  Grand Scenic  2006    Minivan  300000.0   \n",
       "\n",
       "       Engine_capacity(cm3)     Fuel_type  Price(euro)       km_year  \\\n",
       "31644                1800.0        Petrol      11500.0  14666.666667   \n",
       "31645                1800.0  Metan/Propan       4400.0  11250.000000   \n",
       "31646                1500.0        Diesel       7000.0  12714.285714   \n",
       "31647                2000.0        Diesel       4000.0  23125.000000   \n",
       "31648                1500.0        Diesel       4000.0  18750.000000   \n",
       "\n",
       "      Transmission km_year_cat  \n",
       "31644    Automatic      Medium  \n",
       "31645       Manual      Medium  \n",
       "31646       Manual      Medium  \n",
       "31647       Manual      Medium  \n",
       "31648       Manual      Medium  "
      ]
     },
     "execution_count": 382,
     "metadata": {},
     "output_type": "execute_result"
    }
   ],
   "source": [
    "# здравый смысл\n",
    "question_dist = df[(df.Year <2021) & (df.Distance < 1100)]\n",
    "df = df.drop(question_dist.index)\n",
    "\n",
    "# редкие значения\n",
    "question_dist = df[(df.Distance > 1e6)]\n",
    "df = df.drop(question_dist.index)\n",
    "\n",
    "# здравый смысл\n",
    "question_engine = df[df[\"Engine_capacity(cm3)\"] < 200]\n",
    "df = df.drop(question_engine.index)\n",
    "\n",
    "# здравый смысл\n",
    "question_engine = df[df[\"Engine_capacity(cm3)\"] > 5000]\n",
    "df = df.drop(question_engine.index)\n",
    "\n",
    "# здравый смысл\n",
    "question_price = df[(df[\"Price(euro)\"] < 101)]\n",
    "df = df.drop(question_price.index)\n",
    "\n",
    "# здравый смысл\n",
    "question_price = df[df[\"Price(euro)\"] > 5e5]\n",
    "df = df.drop(question_price.index)\n",
    "\n",
    "# редкие значения\n",
    "question_year = df[df.Year < 1951]\n",
    "df = df.drop(question_year.index)\n",
    "\n",
    "df = df.reset_index(drop=True)\n",
    "df.tail()"
   ]
  },
  {
   "cell_type": "markdown",
   "metadata": {},
   "source": [
    "Желательно при фильтрации проверять сколько осталось"
   ]
  },
  {
   "cell_type": "code",
   "execution_count": 383,
   "metadata": {},
   "outputs": [
    {
     "data": {
      "text/plain": [
       "(31649, 11)"
      ]
     },
     "execution_count": 383,
     "metadata": {},
     "output_type": "execute_result"
    }
   ],
   "source": [
    "df.shape"
   ]
  },
  {
   "cell_type": "markdown",
   "metadata": {},
   "source": [
    "### Переименование столбцов"
   ]
  },
  {
   "cell_type": "code",
   "execution_count": 287,
   "metadata": {},
   "outputs": [],
   "source": [
    "df = df.rename(columns={'Engine_capacity(cm3)':'Engine','Price(euro)':'Price'})"
   ]
  },
  {
   "cell_type": "markdown",
   "metadata": {},
   "source": [
    "### Поиск редких значений в категориальных столбцах"
   ]
  },
  {
   "cell_type": "markdown",
   "metadata": {},
   "source": [
    "Оказалось, что часть признаков в категориальных столбцах имеют слишком много записей. Вероятно, редкие из них можно исключить без потери точности. Мы сделаем эту операцию объявив такие записи одним значениям - `Rare`.\n",
    "\n",
    "Выбирем значения колонки `Make`, где частота повторения данных менее `1%`"
   ]
  },
  {
   "cell_type": "code",
   "execution_count": 384,
   "metadata": {},
   "outputs": [
    {
     "data": {
      "text/plain": [
       "Make\n",
       "Volkswagen      3341\n",
       "Toyota          2998\n",
       "Mercedes        2951\n",
       "BMW             2499\n",
       "Renault         2328\n",
       "                ... \n",
       "Abarth             1\n",
       "McLaren            1\n",
       "Groz               1\n",
       "Saturn             1\n",
       "Aston Martin       1\n",
       "Name: count, Length: 82, dtype: int64"
      ]
     },
     "execution_count": 384,
     "metadata": {},
     "output_type": "execute_result"
    }
   ],
   "source": [
    "counts = df['Make'].value_counts()\n",
    "counts"
   ]
  },
  {
   "cell_type": "code",
   "execution_count": 295,
   "metadata": {},
   "outputs": [],
   "source": [
    "counts = df.Make.value_counts()\n",
    "freqs = counts/sum(counts)"
   ]
  },
  {
   "cell_type": "markdown",
   "metadata": {},
   "source": [
    "Будем считать автомобили редкими, если их менее 1%."
   ]
  },
  {
   "cell_type": "code",
   "execution_count": 385,
   "metadata": {},
   "outputs": [
    {
     "data": {
      "text/plain": [
       "Make\n",
       "Chevrolet       322\n",
       "Citroen         295\n",
       "Land Rover      283\n",
       "Seat            238\n",
       "Porsche         188\n",
       "               ... \n",
       "Abarth            1\n",
       "McLaren           1\n",
       "Groz              1\n",
       "Saturn            1\n",
       "Aston Martin      1\n",
       "Name: count, Length: 62, dtype: int64"
      ]
     },
     "execution_count": 385,
     "metadata": {},
     "output_type": "execute_result"
    }
   ],
   "source": [
    "rare=counts[freqs<=0.01]\n",
    "rare"
   ]
  },
  {
   "cell_type": "markdown",
   "metadata": {},
   "source": [
    "Теперь в колонке `Make` проведем замену всех значений `Rare`"
   ]
  },
  {
   "cell_type": "code",
   "execution_count": 386,
   "metadata": {
    "scrolled": true
   },
   "outputs": [
    {
     "data": {
      "text/plain": [
       "Make\n",
       "Volkswagen    3341\n",
       "Toyota        2998\n",
       "Mercedes      2951\n",
       "Rare          2880\n",
       "BMW           2499\n",
       "Renault       2328\n",
       "Opel          1815\n",
       "Skoda         1691\n",
       "Audi          1499\n",
       "Dacia         1349\n",
       "Ford          1305\n",
       "Nissan        1232\n",
       "Hyundai       1179\n",
       "Honda          883\n",
       "KIA            646\n",
       "Mitsubishi     601\n",
       "Lexus          583\n",
       "Volvo          567\n",
       "Vaz            491\n",
       "Mazda          431\n",
       "Peugeot        380\n",
       "Name: count, dtype: int64"
      ]
     },
     "execution_count": 386,
     "metadata": {},
     "output_type": "execute_result"
    }
   ],
   "source": [
    "df['Make'] = df['Make'].replace(rare.index.values, 'Rare')\n",
    "df.Make.value_counts()"
   ]
  },
  {
   "cell_type": "markdown",
   "metadata": {},
   "source": [
    "Обработанные `DataFrames` рекомендуется сохрнаять"
   ]
  },
  {
   "cell_type": "code",
   "execution_count": 387,
   "metadata": {},
   "outputs": [],
   "source": [
    "df.to_csv('cars_processed.csv',index=False)"
   ]
  },
  {
   "cell_type": "markdown",
   "metadata": {},
   "source": [
    "## Упражнения\n",
    "1. Для новых столбцев `km_year_cat` и  `km_year` проведите анализ значений на здравый смысл, например уберите строки где пробег более `100_000` в год.\n",
    "2. Сделайте функцию которая для заданных параметров `Make`, `Model`и `Year` предлагает самый частый тип `Style`. Рассмотрите возможность удалания данного столбца на основе анализа при помощи данной функции.\n",
    "3. Сделайте функцию, которая для заданных параметров `Make`, `Model`и `Year` предлагает самый частый тип `Fuel_type`.\n",
    "4. Проведите устранение редких значений колонки `Models`\n",
    "<!-- 5. Проведите анализ пропущенных значений, рассмотрите возможность их заполнения аналогичными (максимально близкими по смыслу) значениями. Пропущенные значения можно найти например при помощи функции `df[df.Fuel_type.isna()]`. Если пропущенное значение не удется обоснованно заполнить предлагается его удалить\n",
    "```python\n",
    "df = df.drop(index=3) # удаление строки с заданным номером\n",
    "```\n",
    "или\n",
    "```python\n",
    "df = df.dropna() # удаление всех оставшихся NaN\n",
    "``` -->\n",
    "5. Сохраните 1 - оставшийся датафрейм и 2 - отдельно его часть только с численными колонками"
   ]
  },
  {
   "cell_type": "code",
   "execution_count": null,
   "metadata": {},
   "outputs": [],
   "source": []
  },
  {
   "cell_type": "code",
   "execution_count": null,
   "metadata": {},
   "outputs": [],
   "source": []
  }
 ],
 "metadata": {
  "colab": {
   "provenance": []
  },
  "kernelspec": {
   "display_name": "Python 3 (ipykernel)",
   "language": "python",
   "name": "python3"
  },
  "language_info": {
   "codemirror_mode": {
    "name": "ipython",
    "version": 3
   },
   "file_extension": ".py",
   "mimetype": "text/x-python",
   "name": "python",
   "nbconvert_exporter": "python",
   "pygments_lexer": "ipython3",
   "version": "3.9.23"
  },
  "toc": {
   "base_numbering": 1,
   "nav_menu": {},
   "number_sections": true,
   "sideBar": true,
   "skip_h1_title": false,
   "title_cell": "Table of Contents",
   "title_sidebar": "Contents",
   "toc_cell": false,
   "toc_position": {
    "height": "calc(100% - 180px)",
    "left": "10px",
    "top": "150px",
    "width": "165px"
   },
   "toc_section_display": true,
   "toc_window_display": true
  }
 },
 "nbformat": 4,
 "nbformat_minor": 4
}
