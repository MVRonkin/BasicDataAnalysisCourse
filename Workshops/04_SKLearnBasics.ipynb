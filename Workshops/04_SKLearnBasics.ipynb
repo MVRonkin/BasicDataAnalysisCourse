{
 "cells": [
  {
   "cell_type": "markdown",
   "id": "25114698-7698-4558-b21b-f8272cfed4c1",
   "metadata": {},
   "source": [
    "# Машинное обучение\n"
   ]
  },
  {
   "cell_type": "markdown",
   "id": "c6c81434-1066-4d04-a0c6-1a7c754fe91a",
   "metadata": {},
   "source": [
    "## Одно из [определений МО](https://habr.com/ru/companies/ods/articles/322534/)\n",
    "\n",
    "Классическое, общее [определение машинного обучения (МО)](https://www.deeplearningbook.org/contents/ml.html) звучит так ([T. Mitchell \"Machine learning\", 1997](https://www.cs.cmu.edu/~tom/files/MachineLearningTomMitchell.pdf)):\n",
    "\n",
    "<blockquote>\n",
    "Definition: A computer program is said to learn from experience E with respectto some class of tasks T and performance measure P, if its performance at tasks inT, as measured by P, improves with experience E.\n",
    "</blockquote> \n",
    "\n",
    "__или другими словами__:\n",
    "<blockquote>\n",
    "Компьютерная программа обучается при решении какой-то задачи из класса $T$, если ее производительность, согласно метрике $P$, улучшается при накоплении опыта $E$.\n",
    "</blockquote>\n",
    "\n",
    "Далее в разных сценариях под $T$, $P$, и $E$ подразумеваются совершенно разные вещи. \n",
    "\n",
    "Среди самых популярных __задач $T$__ в машинном обучении:\n",
    "* классификация – отнесение объекта к одной из категорий на основании его признаков\n",
    "* регрессия – прогнозирование количественного признака объекта на основании прочих его признаков\n",
    "* кластеризация – разбиение множества объектов на группы на основании признаков этих объектов так, чтобы внутри групп объекты были похожи между собой, а вне одной группы – менее похожи\n",
    "* детекция аномалий – поиск объектов, \"сильно непохожих\" на все остальные в выборке либо на какую-то группу объектов\n",
    "* и много других, более специфичных. \n",
    "\n",
    "Под __опытом $E$__ понимаются __данные__. Данные и в зависимости от этого алгоритмы машинного обучения могут быть поделены на те, что обучаются с учителем и без учителя (__supervised & unsupervised learning__). В задачах обучения без учителя имеется выборка, состоящая из объектов, описываемых набором признаков. В задачах обучения с учителем вдобавок к этому для каждого объекта некоторой выборки, называемой обучающей, известен целевой признак – по сути это то, что хотелось бы прогнозировать для прочих объектов, не из обучающей выборки.\n",
    "\n",
    "\n",
    "_Пример_\n",
    "\n",
    "Задачи классификации и регрессии – это задачи обучения с учителем. В качестве примера будем представлять задачу кредитного скоринга: на основе накопленных кредитной организацией данных о своих клиентах хочется прогнозировать невозврат кредита. Здесь для алгоритма опыт $E$ – это имеющаяся обучающая выборка: набор объектов (людей), каждый из которых характеризуется набором признаков (таких как возраст, зарплата, тип кредита, невозвраты в прошлом и т.д.), а также целевым признаком. Если этот целевой признак – просто факт невозврата кредита ($1$ или $0$, т.е. банк знает о своих клиентах, кто вернул кредит, а кто – нет), то это задача (бинарной) классификации. Если известно, на сколько по времени клиент затянул с возвратом кредита и хочется то же самое прогнозировать для новых клиентов, то это будет задачей регрессии.\n",
    "\n",
    "\n",
    "Наконец, третья абстракция в определении машинного обучения – это __метрика оценки производительности алгоритма P__. Такие метрики различаются для разных задач и алгоритмов. Cамая простая метрика качества алгоритма, решающего задачу классификации – это доля правильных ответов (_accuracy_, не называйте ее точностью, этот перевод зарезервирован под другую метрику, _precision_) – то есть попросту доля верных прогнозов алгоритма на тестовой выборке.\n",
    "\n"
   ]
  },
  {
   "cell_type": "markdown",
   "id": "8b4e47a1-dfd4-4c7c-a8d1-38a77455f696",
   "metadata": {},
   "source": [
    "## Фреймворк Scikit-learn\n",
    "\n",
    "[__Scikit-learn (sklearn)__](https://scikit-learn.org/stable/) — [это](https://blog.skillfactory.ru/glossary/scikit-learn/) один из наиболее широко используемых пакетов Python для Data Science и Machine Learning. Он содержит функции и алгоритмы для машинного обучения: классификации, прогнозирования или разбивки данных на группы.\n",
    "\n",
    "[Sklearn долгое время (с 2007) остаётся](https://habr.com/ru/companies/netologyru/articles/911216/) в стеке любого специалиста по анализу данных и ИИ, потому что хорошо закрывает типовые задачи ML: классификацию, регрессию, отбор признаков, масштабирование, кросс-валидацию. Когда данные уже лежат в таблице, а нужно быстро запустить задачу, с ней проще всего собрать работающий прототип. \n",
    "\n",
    "Все методы обработки данных, реализованные __scikit-learn__ реализуют единый и предсказуемый интерфейс, основанный на методах `.fit()`, `.predict()` и `.transform()`. Этот подход стал де-факто стандартом и был подхвачен другими библиотеками, такими как `LightGBM` и `XGBoost`/`CatBoost`, а также совеместим со многими библиотеками анализа данных, например `Optuna`. Благодаря этому инструменты анализа данных хорошо сочетаются друг с другом, а модели можно заменять без необходимости переписывать весь код.\n",
    "\n",
    "Библиотека `sklearn` хорошо [сочетается ](https://habr.com/ru/companies/netologyru/articles/911216/) с остальными инструментами `Python`. Она работает с массивами `numpy` и датафреймами `pandas`, строит графики через `matplotlib`, сохраняет модели с помощью `joblib`.\n",
    "\n",
    "Вводный гайд по основным функциям библиотеки может быть найден в [официальной документации](https://scikit-learn.org/stable/user_guide.html).\n",
    "\n",
    "Также __полезно будет отметить__, что документация переводится на русский язык [scikit-learn.ru](https://scikit-learn.ru/stable/)"
   ]
  },
  {
   "cell_type": "markdown",
   "id": "34fefa6a-dc97-4798-aa81-1e2f49531896",
   "metadata": {},
   "source": [
    "## Запуск библиотеки"
   ]
  },
  {
   "cell_type": "code",
   "execution_count": 4,
   "id": "7b40e801-1003-4f09-a2a2-83d8e1da1c28",
   "metadata": {},
   "outputs": [],
   "source": [
    "try:\n",
    "    import sklearn\n",
    "except:\n",
    "    %pip install scikit-learn"
   ]
  },
  {
   "cell_type": "code",
   "execution_count": 5,
   "id": "7d9a5ac7-0f25-4fb6-957e-ee86c85de90c",
   "metadata": {},
   "outputs": [],
   "source": [
    "import sklearn"
   ]
  },
  {
   "cell_type": "markdown",
   "id": "9f9750c1-ac69-404d-ae67-398a5a63baf5",
   "metadata": {},
   "source": [
    "Дальше можно убедиться, что всё работает корректно: библиотека загружается, данные читаются, модель обучается. Для этого запустите простой пример на встроенном датасете `iris`.\n",
    "\n",
    "Подключим четыре модуля:\n",
    "\n",
    "* `datasets` — встроенные датасеты для тестов;\n",
    "* `linear_model` — простые модели вроде логистической регрессии;\n",
    "* `model_selection` — разбиение данных и кросс-валидация;\n",
    "* `metrics` — функции для оценки качества."
   ]
  },
  {
   "cell_type": "code",
   "execution_count": 8,
   "id": "a24d62d4-b810-48cd-b678-c3debf396972",
   "metadata": {},
   "outputs": [],
   "source": [
    "from sklearn import datasets, linear_model, metrics, model_selection\n",
    "\n",
    "# Загружаем данные\n",
    "X, y = datasets.load_iris(return_X_y=True)"
   ]
  },
  {
   "cell_type": "markdown",
   "id": "30f7a3b1-ffab-45aa-a047-75b93016a7c0",
   "metadata": {},
   "source": [
    "Функция `train_test_split` просто случайно выбирает, какие объекты пойдут в обучение, а какие — в тест. Но поведение этой функции можно настраивать."
   ]
  },
  {
   "cell_type": "code",
   "execution_count": 9,
   "id": "e5e5efe6-ca9f-485f-a91b-4bf6b1d2b84a",
   "metadata": {},
   "outputs": [],
   "source": [
    "\n",
    "# Разбиваем на обучение и тест\n",
    "X_train, X_test, y_train, y_test = model_selection.train_test_split(X, y, test_size=0.3, random_state=42)\n"
   ]
  },
  {
   "cell_type": "markdown",
   "id": "7577953f-5a06-4cf4-89c3-4426031e68f5",
   "metadata": {},
   "source": [
    "У `sklearn` единый подход ко всем моделям: сначала данные передают в `fit`, потом получают предсказания через `predict`, а дальше оценивают результат — с помощью `score` или функций из `metrics`. Эта схема работает одинаково для разных алгоритмов, поэтому после первого примера становится понятно, как работает вся библиотека.\n",
    "\n"
   ]
  },
  {
   "cell_type": "code",
   "execution_count": 7,
   "id": "36a921f7-76f1-48df-aa6f-c16096588c82",
   "metadata": {},
   "outputs": [
    {
     "name": "stdout",
     "output_type": "stream",
     "text": [
      "Accuracy: 1.00\n"
     ]
    }
   ],
   "source": [
    "# Обучаем модель\n",
    "model = linear_model.LogisticRegression(max_iter=1000)\n",
    "model.fit(X_train, y_train)\n",
    "\n",
    "# Получаем предсказания\n",
    "y_pred = model.predict(X_test)\n",
    "\n",
    "# Считаем метрику\n",
    "accuracy = metrics.accuracy_score(y_test, y_pred)\n",
    "print(f\"Accuracy: {accuracy:.2f}\")"
   ]
  },
  {
   "cell_type": "markdown",
   "id": "5c9213cd-4048-47f3-9977-d575273725f1",
   "metadata": {},
   "source": [
    "И так, в примере загружается встроенный набор данных `iris`, где каждый объект — это параметры цветка, а цель — определить его класс. Данные делятся на обучающую и тестовую выборки: модель учится на одной части (`fit`) и проверяется на другой (`predict`). После этого считается метрика качества — точность (`accuracy`), то есть доля правильных ответов.\n",
    "\n"
   ]
  },
  {
   "cell_type": "markdown",
   "id": "677f5d6b-a8ea-43d2-8d2c-bee8c2b29a6c",
   "metadata": {},
   "source": [
    "# Обработка набора данных"
   ]
  },
  {
   "cell_type": "markdown",
   "id": "488139d2-ff08-4cfc-9289-061d9578e379",
   "metadata": {},
   "source": [
    "## Импорт"
   ]
  },
  {
   "cell_type": "markdown",
   "id": "1f708027-ba0a-4b22-bfb0-5b3b11d89939",
   "metadata": {},
   "source": [
    "Напомним, что мы анализируем набор данных cars, содержащий записи о продажах автомобилей на вторичном рынке. Основная задача в данном датасете - это предсказание цены на автомобиль. С точки зрения `DataScience` мы будем решать задачу регрессии."
   ]
  },
  {
   "cell_type": "code",
   "execution_count": 26,
   "id": "a09ce450-64f3-40e8-a337-ec1072f49017",
   "metadata": {},
   "outputs": [],
   "source": [
    "import matplotlib.pyplot as plt\n",
    "import seaborn as sns\n",
    "import pandas as pd\n",
    "import numpy as np\n",
    "import random\n"
   ]
  },
  {
   "cell_type": "code",
   "execution_count": 27,
   "id": "3351ff8d-aaab-4048-a63a-ef970f275ba2",
   "metadata": {},
   "outputs": [],
   "source": [
    "from sklearn.model_selection import train_test_split"
   ]
  },
  {
   "cell_type": "markdown",
   "id": "8cb67713-4035-4517-85f2-0de3a61650e4",
   "metadata": {},
   "source": [
    "Пока загрузим только численные колонки наших данных. Дело в том, что с категориальными колонками нужны особые механизмы работы - их пока трогать не будем."
   ]
  },
  {
   "cell_type": "code",
   "execution_count": 30,
   "id": "ed78c371-f416-425c-bc96-421de60b0a09",
   "metadata": {},
   "outputs": [],
   "source": [
    "df = pd.read_csv('https://raw.githubusercontent.com/MVRonkin/BasicDataAnalysisCourse/refs/heads/main/Workshops/cars_cleaned_num.csv', index_col=0)\n",
    "# df = pd.read_csv('cars_cleaned_num.csv', index_col=0)"
   ]
  },
  {
   "cell_type": "code",
   "execution_count": 31,
   "id": "1db8e392-2855-43c8-a027-e83989c23d12",
   "metadata": {
    "scrolled": true
   },
   "outputs": [
    {
     "data": {
      "text/html": [
       "<div>\n",
       "<style scoped>\n",
       "    .dataframe tbody tr th:only-of-type {\n",
       "        vertical-align: middle;\n",
       "    }\n",
       "\n",
       "    .dataframe tbody tr th {\n",
       "        vertical-align: top;\n",
       "    }\n",
       "\n",
       "    .dataframe thead th {\n",
       "        text-align: right;\n",
       "    }\n",
       "</style>\n",
       "<table border=\"1\" class=\"dataframe\">\n",
       "  <thead>\n",
       "    <tr style=\"text-align: right;\">\n",
       "      <th></th>\n",
       "      <th>Year</th>\n",
       "      <th>Distance</th>\n",
       "      <th>Engine</th>\n",
       "      <th>Price</th>\n",
       "      <th>km_year</th>\n",
       "    </tr>\n",
       "  </thead>\n",
       "  <tbody>\n",
       "    <tr>\n",
       "      <th>0</th>\n",
       "      <td>2011</td>\n",
       "      <td>195000.0</td>\n",
       "      <td>1800.0</td>\n",
       "      <td>7750.0</td>\n",
       "      <td>17727.272727</td>\n",
       "    </tr>\n",
       "    <tr>\n",
       "      <th>1</th>\n",
       "      <td>2014</td>\n",
       "      <td>135000.0</td>\n",
       "      <td>1500.0</td>\n",
       "      <td>8550.0</td>\n",
       "      <td>16875.000000</td>\n",
       "    </tr>\n",
       "  </tbody>\n",
       "</table>\n",
       "</div>"
      ],
      "text/plain": [
       "   Year  Distance  Engine   Price       km_year\n",
       "0  2011  195000.0  1800.0  7750.0  17727.272727\n",
       "1  2014  135000.0  1500.0  8550.0  16875.000000"
      ]
     },
     "execution_count": 31,
     "metadata": {},
     "output_type": "execute_result"
    }
   ],
   "source": [
    "df.head(2)"
   ]
  },
  {
   "cell_type": "markdown",
   "id": "60f5021f-8037-4986-b298-ca1765c2d113",
   "metadata": {},
   "source": [
    "## Разделение данных на тренировочные и тестовые"
   ]
  },
  {
   "cell_type": "markdown",
   "id": "751ea184-4912-4d8e-9f8c-2fe3ec4996ec",
   "metadata": {},
   "source": [
    "Выбераем целевую колонку (`y`) и колонки входных данных (`X`)"
   ]
  },
  {
   "cell_type": "code",
   "execution_count": 32,
   "id": "c997424b-f76a-4042-96ac-c014515005bd",
   "metadata": {},
   "outputs": [
    {
     "data": {
      "image/png": "[encoded data removed]",
      "text/plain": [
       "<Figure size 640x480 with 1 Axes>"
      ]
     },
     "metadata": {},
     "output_type": "display_data"
    }
   ],
   "source": [
    "y = df[\"Price\"]\n",
    "X = df.drop([\"Price\"], axis = 1)\n",
    "y.hist();"
   ]
  },
  {
   "cell_type": "markdown",
   "id": "1104425e-56ed-44ce-9df7-021c278754cb",
   "metadata": {},
   "source": [
    "_Важно_ отметить, что особенностью методов обучения на больших данных является потенциальная ситуация переобучения/недообучения в ходе оптимизации. Проще всего это представить как ситуацию, в которой мы ошибемся в выбранных значениях коэффициентов. Такое явление может происходить если, например, модель будет воспринимать все ошибки, случайности и сознательные искажения входных данных как важные признаки для точного\n",
    "ответа. \n",
    "\n",
    "_Другими словами_, для данных, участвующих в обучении (обучающая выборка), наша ошибка может стремиться к нулю. Однако для\n",
    "данных, отличных от обучающей выборки, точность будет оставаться невысокой. Такое явление называется __переобучение__.\n",
    "\n",
    "Чтобы не допустить переобучения, на каждом шаге обучения мы будем проверять точность полученной модели. Для такой проверки будем\n",
    "использовать так называемую __валидационную выборку__. \n",
    "\n",
    "Как правило, валидационная и тренировочная выборки выделяются из одних и тех\n",
    "же данных. \n",
    "\n",
    "<blockquote>\n",
    "    \n",
    "В некоторых случаях кроме этих двух выборок может быть\n",
    "также и третья, независимая от них. Такая выборка будет необходима\n",
    "для проверки итоговой точности модели (_Тестовая выборка_). Итоговую проверочную выборку можно назвать тестовой выборкой. По существу тестовая выборка характеризует так называемую __обобщающую способность__, то\n",
    "есть разность между точностью на тренировочных данных и тех данных, в которых модель должна работать в реальной жизне. Разность значений точности\n",
    "должна быть как можно меньше."
   ]
  },
  {
   "cell_type": "markdown",
   "id": "63e202ca-e361-40bb-b43f-93eed08f042a",
   "metadata": {},
   "source": [
    "Для того чтобы выделить из входных данных тренировочную и тестовую выборки, запишем следующую функцию: `train_test_split`.\n",
    "Функция будет иметь входные аргументы: `x, y` — входные данные и целевые значения;  `test_size` — размер тестовой части; `random_state` — состояние генератора случайных чисел (повышает воспроизводимость результатов).\n",
    "\n",
    "Отметим, что результат `train_test_split` будет иметь формат `ndarray`"
   ]
  },
  {
   "cell_type": "code",
   "execution_count": 33,
   "id": "04cd8afc-6c8d-4679-9d6f-e4540fb68407",
   "metadata": {
    "scrolled": true
   },
   "outputs": [
    {
     "data": {
      "text/html": [
       "<div>\n",
       "<style scoped>\n",
       "    .dataframe tbody tr th:only-of-type {\n",
       "        vertical-align: middle;\n",
       "    }\n",
       "\n",
       "    .dataframe tbody tr th {\n",
       "        vertical-align: top;\n",
       "    }\n",
       "\n",
       "    .dataframe thead th {\n",
       "        text-align: right;\n",
       "    }\n",
       "</style>\n",
       "<table border=\"1\" class=\"dataframe\">\n",
       "  <thead>\n",
       "    <tr style=\"text-align: right;\">\n",
       "      <th></th>\n",
       "      <th>Year</th>\n",
       "      <th>Distance</th>\n",
       "      <th>Engine</th>\n",
       "      <th>km_year</th>\n",
       "    </tr>\n",
       "  </thead>\n",
       "  <tbody>\n",
       "    <tr>\n",
       "      <th>29914</th>\n",
       "      <td>2005</td>\n",
       "      <td>170000.0</td>\n",
       "      <td>1300.0</td>\n",
       "      <td>10000.000000</td>\n",
       "    </tr>\n",
       "    <tr>\n",
       "      <th>5402</th>\n",
       "      <td>2006</td>\n",
       "      <td>208000.0</td>\n",
       "      <td>1300.0</td>\n",
       "      <td>13000.000000</td>\n",
       "    </tr>\n",
       "    <tr>\n",
       "      <th>861</th>\n",
       "      <td>1986</td>\n",
       "      <td>250000.0</td>\n",
       "      <td>1400.0</td>\n",
       "      <td>6944.444444</td>\n",
       "    </tr>\n",
       "    <tr>\n",
       "      <th>15844</th>\n",
       "      <td>1998</td>\n",
       "      <td>213000.0</td>\n",
       "      <td>1000.0</td>\n",
       "      <td>8875.000000</td>\n",
       "    </tr>\n",
       "    <tr>\n",
       "      <th>23732</th>\n",
       "      <td>2012</td>\n",
       "      <td>132683.0</td>\n",
       "      <td>1800.0</td>\n",
       "      <td>13268.300000</td>\n",
       "    </tr>\n",
       "  </tbody>\n",
       "</table>\n",
       "</div>"
      ],
      "text/plain": [
       "       Year  Distance  Engine       km_year\n",
       "29914  2005  170000.0  1300.0  10000.000000\n",
       "5402   2006  208000.0  1300.0  13000.000000\n",
       "861    1986  250000.0  1400.0   6944.444444\n",
       "15844  1998  213000.0  1000.0   8875.000000\n",
       "23732  2012  132683.0  1800.0  13268.300000"
      ]
     },
     "execution_count": 33,
     "metadata": {},
     "output_type": "execute_result"
    }
   ],
   "source": [
    "X_train, X_test, y_train, y_test = train_test_split(X, y, test_size=0.3, random_state=42)\n",
    "pd.DataFrame(X_train).tail()"
   ]
  },
  {
   "cell_type": "markdown",
   "id": "35688bb2-bdf7-486e-ad2a-4db89c713816",
   "metadata": {},
   "source": [
    "Проверим размерность"
   ]
  },
  {
   "cell_type": "code",
   "execution_count": 37,
   "id": "11c4befd-4403-4131-84ea-73ff3a3a111c",
   "metadata": {},
   "outputs": [
    {
     "name": "stdout",
     "output_type": "stream",
     "text": [
      "(22362, 4) (9585, 4) (22362,) (9585,)\n"
     ]
    }
   ],
   "source": [
    "print(X_train.shape, X_test.shape, y_train.shape, y_test.shape)"
   ]
  },
  {
   "cell_type": "markdown",
   "id": "f7c00e99-ad28-4c24-b64d-b2af6bed83e6",
   "metadata": {},
   "source": [
    "И так у нас имеется 22 362 тренировочных записи и 9585 тестовых записей"
   ]
  },
  {
   "cell_type": "markdown",
   "id": "d0a5f2af-6ae5-4d88-85be-8f56af0c4891",
   "metadata": {},
   "source": [
    "## Шкалирование данных\n",
    "\n",
    " __Шкалирование__ - набор преобразований, проводящий признаки к единому масштабу. [Шкалирование](https://bigdataschool.ru/blog/data-normalization-and-standardization/) используется в машинном обучении (Machine Learning), поскольку разные атрибуты могут измеряться в разных диапазонах, или значения одного атрибута варьируются слишком сильно. Например, один атрибут имеет диапазон от 0 до 1, а второй — от 1 до 1000. Для задачи регрессии второй атрибут оказывал бы большое влияние на обучение, хотя не факт, что он является более важным, чем первый. \n",
    "\n",
    "Мы будем использовать метод шкалирования `StandardScaler` - стандартизация. Стандартизация приводит данные к нулевому среднему ($\\mu$) и единичной дисперсии ($\\sigma$):\n",
    "$$x_{scaled} = \\frac{x−\\mu}{\\sigma}\n",
    "$$\n",
    "\n",
    "Когда использовать:\n",
    "* Когда данные приблизительно нормально распределены.\n",
    "* Для алгоритмов, чувствительных к масштабу и предполагающих нормальность:\n",
    "линейная регрессия, логистическая регрессия, SVM, PCA, нейросети.\n",
    "* Не подходит, если есть выбросы — они сильно влияют на среднее и std.\n",
    "\n",
    "<blockquote>\n",
    "    \n",
    "Отметим, что также часто используется метод шкалирования нормализация. Нормализация `MinMaxScaler` - это масштабирует данные в диапазон [0, 1] (или другой, например [-1, 1]):\n",
    "$$x_{scaled}= \\frac{x-x_{min}}{(x_{max} - x_{min})}$$\n",
    "\n",
    " \n",
    "Когда использовать:\n",
    "* Когда границы данных известны и стабильны.\n",
    "* Если модели требуют вход в [0,1] или [-1,1].\n",
    "* Когда распределение не нормальное, и вы хотите сохранить форму распределения.\n",
    "* Минус: Очень чувствителен к выбросам — один выброс может \"сжать\" все остальные значения.\n",
    "\n",
    "</blockquote>"
   ]
  },
  {
   "cell_type": "code",
   "execution_count": 39,
   "id": "d740ab10-0218-4ba8-ba88-d51ccbcd56d5",
   "metadata": {},
   "outputs": [],
   "source": [
    "from sklearn.preprocessing import StandardScaler"
   ]
  },
  {
   "cell_type": "markdown",
   "id": "271467d1-9f49-4c30-90f9-69cee839284b",
   "metadata": {},
   "source": [
    "Обратите внимание, что мы оцениваем коэффициенты шкалирования только на тренировочных данных (`fit_transform`), а на тестовых данных мы только производим преобразование с готовыми коэффициентами (`transform`)"
   ]
  },
  {
   "cell_type": "code",
   "execution_count": 40,
   "id": "68a478d4-6f72-498e-90de-307b93d1c267",
   "metadata": {
    "scrolled": true
   },
   "outputs": [
    {
     "data": {
      "text/html": [
       "<div>\n",
       "<style scoped>\n",
       "    .dataframe tbody tr th:only-of-type {\n",
       "        vertical-align: middle;\n",
       "    }\n",
       "\n",
       "    .dataframe tbody tr th {\n",
       "        vertical-align: top;\n",
       "    }\n",
       "\n",
       "    .dataframe thead th {\n",
       "        text-align: right;\n",
       "    }\n",
       "</style>\n",
       "<table border=\"1\" class=\"dataframe\">\n",
       "  <thead>\n",
       "    <tr style=\"text-align: right;\">\n",
       "      <th></th>\n",
       "      <th>0</th>\n",
       "      <th>1</th>\n",
       "      <th>2</th>\n",
       "      <th>3</th>\n",
       "    </tr>\n",
       "  </thead>\n",
       "  <tbody>\n",
       "    <tr>\n",
       "      <th>22357</th>\n",
       "      <td>-0.455892</td>\n",
       "      <td>-0.105069</td>\n",
       "      <td>-0.934579</td>\n",
       "      <td>-0.639585</td>\n",
       "    </tr>\n",
       "    <tr>\n",
       "      <th>22358</th>\n",
       "      <td>-0.317470</td>\n",
       "      <td>0.294421</td>\n",
       "      <td>-0.934579</td>\n",
       "      <td>-0.242963</td>\n",
       "    </tr>\n",
       "    <tr>\n",
       "      <th>22359</th>\n",
       "      <td>-3.085913</td>\n",
       "      <td>0.735962</td>\n",
       "      <td>-0.769646</td>\n",
       "      <td>-1.043553</td>\n",
       "    </tr>\n",
       "    <tr>\n",
       "      <th>22360</th>\n",
       "      <td>-1.424847</td>\n",
       "      <td>0.346985</td>\n",
       "      <td>-1.429378</td>\n",
       "      <td>-0.788319</td>\n",
       "    </tr>\n",
       "    <tr>\n",
       "      <th>22361</th>\n",
       "      <td>0.513063</td>\n",
       "      <td>-0.497378</td>\n",
       "      <td>-0.109914</td>\n",
       "      <td>-0.207492</td>\n",
       "    </tr>\n",
       "  </tbody>\n",
       "</table>\n",
       "</div>"
      ],
      "text/plain": [
       "              0         1         2         3\n",
       "22357 -0.455892 -0.105069 -0.934579 -0.639585\n",
       "22358 -0.317470  0.294421 -0.934579 -0.242963\n",
       "22359 -3.085913  0.735962 -0.769646 -1.043553\n",
       "22360 -1.424847  0.346985 -1.429378 -0.788319\n",
       "22361  0.513063 -0.497378 -0.109914 -0.207492"
      ]
     },
     "execution_count": 40,
     "metadata": {},
     "output_type": "execute_result"
    }
   ],
   "source": [
    "scaler = StandardScaler()\n",
    "X_train = scaler.fit_transform(X_train)\n",
    "X_test = scaler.transform(X_test)\n",
    "\n",
    "pd.DataFrame(X_train).tail()"
   ]
  },
  {
   "cell_type": "markdown",
   "id": "e96e83af-5896-4205-9305-83f10cc3f25c",
   "metadata": {},
   "source": [
    "Теперь, когда все данные в одном диапазоне попробуем еще раз на них взглянуть"
   ]
  },
  {
   "cell_type": "code",
   "execution_count": 46,
   "id": "7d91923a-7295-4d35-a937-1b10d535c83e",
   "metadata": {
    "scrolled": true
   },
   "outputs": [
    {
     "data": {
      "image/png": "[encoded data removed]",
      "text/plain": [
       "<Figure size 800x400 with 1 Axes>"
      ]
     },
     "metadata": {},
     "output_type": "display_data"
    }
   ],
   "source": [
    "df_ = pd.DataFrame(X_test, columns  = X.columns)\n",
    "\n",
    "plt.figure(figsize=(8, 4))\n",
    "df_.boxplot(column=['Year', 'Distance', 'Engine', 'km_year'])\n",
    "plt.title('Boxplots признаков на тесте')\n",
    "plt.ylabel('Значение (масштабированное)')\n",
    "plt.xticks(rotation=45)\n",
    "plt.tight_layout()\n",
    "plt.show()"
   ]
  },
  {
   "cell_type": "markdown",
   "id": "aa94806c-bbea-4ce2-b94c-bd51d6cb08f3",
   "metadata": {},
   "source": [
    "## Исследование методов оценки цены"
   ]
  },
  {
   "cell_type": "markdown",
   "id": "65456129-1fb7-49d4-bd48-11ff25282dcd",
   "metadata": {},
   "source": [
    "Опробуем алгоритм линейной регрессии на данных признаках. \n",
    "\n",
    "Самая простая модель регрессии. Предполагает, что зависимость между признаками и целевой переменной — линейная:\n",
    "\n",
    "$$ \\hat y = w_1\\cdot Year + w_2 \\cdot Distance + w_3 \\cdot Engine + w_4 \\cdot km_year$$\n",
    "\n",
    "Такая модель предполагает линейную зависимость целевой переменной $\\hat y$ (Price) от входных параметров. \n",
    "\n",
    "Цель обучения модели - найти оптимальные значения коэффицентов $ \\{w_1, w_2, w_3, w_4\\}$. Оптимальные значения - это такие значения, при которых средняя ошибка оценки цены $\\hat y$ будет минимальна относительно ее реальных значений $y$. Другими словами мы хотим минимизировать риск дать неправильную оценку цены. Риск (среднюю ошибку / потери) мы будем называть `Loss`. \n",
    "\n",
    "Если предположить, что каждая наша запись в данных случайна и независима, то такой риск разумно оценить как\n",
    "$$ L = {\\frac{\\sum{y - \\hat y}^2}{N}}$$\n",
    "\n",
    "Такая ошибка ($L$ - loss) назвывается [`Root Mean Square Error`](https://en.wikipedia.org/wiki/Mean_squared_error).  Средне-квадратическая ошибка рассчитывается для выборки длиной $N$. Фактически данная ошибка говорит следующее: чем дальше значения от реальных, тем больше в  квадрат раз штрафуется модель. Интерпретация аналогична геметрической."
   ]
  },
  {
   "cell_type": "markdown",
   "id": "39b5253d-cf3a-4f56-bd60-d56b1561e12a",
   "metadata": {},
   "source": [
    "Для того, чтобы обучить нашу модель - `LinearRegression` вызовим ее из библиотеки `linear_model`. Результат модели будем смотреть как значение `mean_absolute_error` (__MAE__)  и корня из `mean_squared_error` (__RMSE__).\n",
    "\n",
    "Значения на которых мы проверяем точность будем называть словом [__метрика__](https://education.yandex.ru/handbook/ml/article/metriki-klassifikacii-i-regressii). \n",
    "<blockqute>\n",
    "    \n",
    "Отметим, что мы использовали обучение методом наименьших квадратов (`MSE`) - как наиболее точное аналитическое решение проблемы линейной регрессии. Ошибка __RMSE__ максимально характеризует результат нашего обучения. Сравнивая значения __RMSE__ для разных версий нашего алгоритма, обученных на одной и той же выборки мы можем сказать какая из версий лучше подходит для соотношения входных и выходных данных. То есть какая из версий моделей лучше объясняет это соотношение.\n",
    "\n",
    "Однако,  для неискушенного в машинном обучении заказчика более интуитивно понятной  и ожидаемой величиной ошибки будет как раз среднее абсолютное отклонение __MAE__. \n",
    "\n",
    "$$ MAE = {\\frac{\\sum{|y - \\hat y|}}{N}}$$\n",
    "\n",
    "Можно сказать, что __RMSE__ характеризует случайный разброс значений, тогда как  __MAE__ характеризует смещение среднего значения.  Также отметим, что __MAE__ менее чувствтиельна к выбросам.\n"
   ]
  },
  {
   "cell_type": "code",
   "execution_count": 53,
   "id": "212bc605-7ba4-4d15-b8a4-2b916dc3c1d4",
   "metadata": {},
   "outputs": [
    {
     "name": "stdout",
     "output_type": "stream",
     "text": [
      "Линейная регрессия:\n",
      "Test:\tMAE: 4120.1, \tRMSE: 6880.0\n",
      "Train:\tMAE: 4115.1, \tRMSE: 6798.5\n"
     ]
    }
   ],
   "source": [
    "from sklearn.linear_model import LinearRegression\n",
    "from sklearn.metrics import mean_absolute_error, mean_squared_error\n",
    "\n",
    "lr = LinearRegression()\n",
    "lr.fit(X_train, y_train)\n",
    "\n",
    "y_hat_train = lr.predict(X_train)\n",
    "y_hat_test = lr.predict(X_test)\n",
    "\n",
    "train_mae = mean_absolute_error(y_hat_train, y_train)\n",
    "train_rmse = np.sqrt(mean_squared_error(y_hat_train, y_train))\n",
    "\n",
    "test_mae = mean_absolute_error(y_hat_test, y_test)\n",
    "test_rmse = np.sqrt(mean_squared_error(y_hat_test, y_test))\n",
    "\n",
    "print(f\"Линейная регрессия:\\nTest:\\tMAE: {test_mae:.1f}, \\tRMSE: {test_rmse:.1f}\\nTrain:\\tMAE: {train_mae:.1f}, \\tRMSE: {train_rmse:.1f}\")"
   ]
  },
  {
   "cell_type": "code",
   "execution_count": 24,
   "id": "3c0acc9a-a9bc-4438-9e4e-0db5da909fb8",
   "metadata": {},
   "outputs": [
    {
     "name": "stdout",
     "output_type": "stream",
     "text": [
      "0.7811527791343055 0.9702547707288428\n"
     ]
    }
   ],
   "source": [
    "from sklearn.ensemble import RandomForestRegressor\n",
    "\n",
    "rfr = RandomForestRegressor(random_state=42)\n",
    "rfr.fit(X_train, y_train)\n",
    "\n",
    "train_predictions = rfr.predict(X_train)\n",
    "train_score = rfr.score(X_train,y_train)\n",
    "\n",
    "test_predictions = rfr.predict(X_test)\n",
    "test_score = rfr.score(X_test,y_test)\n",
    "\n",
    "print(test_score,train_score)"
   ]
  },
  {
   "cell_type": "code",
   "execution_count": 25,
   "id": "3e9b0cbd-4705-4ceb-824f-fd17048f5049",
   "metadata": {},
   "outputs": [
    {
     "data": {
      "text/plain": [
       "<matplotlib.collections.PathCollection at 0x2815ca1b0>"
      ]
     },
     "execution_count": 25,
     "metadata": {},
     "output_type": "execute_result"
    },
    {
     "data": {
      "image/png": "[encoded data removed]",
      "text/plain": [
       "<Figure size 640x480 with 1 Axes>"
      ]
     },
     "metadata": {},
     "output_type": "display_data"
    }
   ],
   "source": [
    "plt.scatter(test_predictions,y_test)"
   ]
  },
  {
   "cell_type": "code",
   "execution_count": null,
   "id": "31b0b70b-4919-42bc-81a7-10d57db4d58e",
   "metadata": {},
   "outputs": [],
   "source": []
  }
 ],
 "metadata": {
  "kernelspec": {
   "display_name": "Python 3 (ipykernel)",
   "language": "python",
   "name": "python3"
  },
  "language_info": {
   "codemirror_mode": {
    "name": "ipython",
    "version": 3
   },
   "file_extension": ".py",
   "mimetype": "text/x-python",
   "name": "python",
   "nbconvert_exporter": "python",
   "pygments_lexer": "ipython3",
   "version": "3.12.2"
  }
 },
 "nbformat": 4,
 "nbformat_minor": 5
}
